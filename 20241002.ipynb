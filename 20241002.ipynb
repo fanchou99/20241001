{
  "nbformat": 4,
  "nbformat_minor": 0,
  "metadata": {
    "colab": {
      "provenance": [],
      "authorship_tag": "ABX9TyMB3b5xjMzGS2o/Ot6kj35F",
      "include_colab_link": true
    },
    "kernelspec": {
      "name": "python3",
      "display_name": "Python 3"
    },
    "language_info": {
      "name": "python"
    }
  },
  "cells": [
    {
      "cell_type": "markdown",
      "metadata": {
        "id": "view-in-github",
        "colab_type": "text"
      },
      "source": [
        "<a href=\"https://colab.research.google.com/github/fanchou99/20241001/blob/main/20241002.ipynb\" target=\"_parent\"><img src=\"https://colab.research.google.com/assets/colab-badge.svg\" alt=\"Open In Colab\"/></a>"
      ]
    },
    {
      "cell_type": "code",
      "execution_count": null,
      "metadata": {
        "id": "fLz1FzGRBZO4"
      },
      "outputs": [],
      "source": []
    },
    {
      "cell_type": "markdown",
      "source": [
        "# 20241002筆記"
      ],
      "metadata": {
        "id": "BJVNvsV5Dgme"
      }
    },
    {
      "cell_type": "markdown",
      "source": [
        "## 複習基本資料型態及容器型別\n",
        "* int,float,bool,str\n",
        "* list,tuple,dict,set"
      ],
      "metadata": {
        "id": "gSGkySH1D5Ce"
      }
    },
    {
      "cell_type": "markdown",
      "source": [
        "### 字串的加法及乘法"
      ],
      "metadata": {
        "id": "3qutS-2xETvO"
      }
    },
    {
      "cell_type": "code",
      "source": [
        "'abc'+'123'"
      ],
      "metadata": {
        "colab": {
          "base_uri": "https://localhost:8080/",
          "height": 35
        },
        "id": "iQr-WPUBEYKJ",
        "outputId": "460b8301-85ed-4cd8-a72b-00ff3b8977cd"
      },
      "execution_count": null,
      "outputs": [
        {
          "output_type": "execute_result",
          "data": {
            "text/plain": [
              "'abc123'"
            ],
            "application/vnd.google.colaboratory.intrinsic+json": {
              "type": "string"
            }
          },
          "metadata": {},
          "execution_count": 1
        }
      ]
    },
    {
      "cell_type": "code",
      "source": [
        "'abc'*3"
      ],
      "metadata": {
        "colab": {
          "base_uri": "https://localhost:8080/",
          "height": 35
        },
        "id": "n_GouLa5EmKB",
        "outputId": "755dbba4-0af0-40fc-9978-f1414438a1ee"
      },
      "execution_count": null,
      "outputs": [
        {
          "output_type": "execute_result",
          "data": {
            "text/plain": [
              "'abcabcabc'"
            ],
            "application/vnd.google.colaboratory.intrinsic+json": {
              "type": "string"
            }
          },
          "metadata": {},
          "execution_count": 2
        }
      ]
    },
    {
      "cell_type": "code",
      "source": [
        "'abc'+123"
      ],
      "metadata": {
        "colab": {
          "base_uri": "https://localhost:8080/",
          "height": 141
        },
        "id": "zm9_kI0sEsa9",
        "outputId": "c1d40bb4-8aff-447d-b5a2-9be7f89d3e82"
      },
      "execution_count": null,
      "outputs": [
        {
          "output_type": "error",
          "ename": "TypeError",
          "evalue": "can only concatenate str (not \"int\") to str",
          "traceback": [
            "\u001b[0;31m---------------------------------------------------------------------------\u001b[0m",
            "\u001b[0;31mTypeError\u001b[0m                                 Traceback (most recent call last)",
            "\u001b[0;32m<ipython-input-3-825e7fd87f6c>\u001b[0m in \u001b[0;36m<cell line: 1>\u001b[0;34m()\u001b[0m\n\u001b[0;32m----> 1\u001b[0;31m \u001b[0;34m'abc'\u001b[0m\u001b[0;34m+\u001b[0m\u001b[0;36m123\u001b[0m\u001b[0;34m\u001b[0m\u001b[0;34m\u001b[0m\u001b[0m\n\u001b[0m",
            "\u001b[0;31mTypeError\u001b[0m: can only concatenate str (not \"int\") to str"
          ]
        }
      ]
    },
    {
      "cell_type": "code",
      "source": [
        "'abc' + str(123)"
      ],
      "metadata": {
        "colab": {
          "base_uri": "https://localhost:8080/",
          "height": 35
        },
        "id": "565UpsJ9EyVr",
        "outputId": "a88b1919-7abe-4e64-815e-e61f352c652a"
      },
      "execution_count": null,
      "outputs": [
        {
          "output_type": "execute_result",
          "data": {
            "text/plain": [
              "'abc123'"
            ],
            "application/vnd.google.colaboratory.intrinsic+json": {
              "type": "string"
            }
          },
          "metadata": {},
          "execution_count": 4
        }
      ]
    },
    {
      "cell_type": "code",
      "source": [
        "'abc'*3.0"
      ],
      "metadata": {
        "colab": {
          "base_uri": "https://localhost:8080/",
          "height": 141
        },
        "id": "OWmya_8jE1Ut",
        "outputId": "d88023e8-7735-4c67-f351-ed914f756e84"
      },
      "execution_count": null,
      "outputs": [
        {
          "output_type": "error",
          "ename": "TypeError",
          "evalue": "can't multiply sequence by non-int of type 'float'",
          "traceback": [
            "\u001b[0;31m---------------------------------------------------------------------------\u001b[0m",
            "\u001b[0;31mTypeError\u001b[0m                                 Traceback (most recent call last)",
            "\u001b[0;32m<ipython-input-5-f2fcc78f37b5>\u001b[0m in \u001b[0;36m<cell line: 1>\u001b[0;34m()\u001b[0m\n\u001b[0;32m----> 1\u001b[0;31m \u001b[0;34m'abc'\u001b[0m\u001b[0;34m*\u001b[0m\u001b[0;36m3.0\u001b[0m\u001b[0;34m\u001b[0m\u001b[0;34m\u001b[0m\u001b[0m\n\u001b[0m",
            "\u001b[0;31mTypeError\u001b[0m: can't multiply sequence by non-int of type 'float'"
          ]
        }
      ]
    },
    {
      "cell_type": "code",
      "source": [
        "'abc'*int(3.0)"
      ],
      "metadata": {
        "colab": {
          "base_uri": "https://localhost:8080/",
          "height": 35
        },
        "id": "30fbaCLqE7fQ",
        "outputId": "15609d9e-8eaa-46da-c59d-ae689175924e"
      },
      "execution_count": null,
      "outputs": [
        {
          "output_type": "execute_result",
          "data": {
            "text/plain": [
              "'abcabcabc'"
            ],
            "application/vnd.google.colaboratory.intrinsic+json": {
              "type": "string"
            }
          },
          "metadata": {},
          "execution_count": 6
        }
      ]
    },
    {
      "cell_type": "markdown",
      "source": [
        "### 綜合練習\n",
        "\n",
        "請用for迴圈畫出底下金字塔。\n",
        "\n",
        "    *\n",
        "   ***\n",
        "  *****\n",
        " *******\n",
        "*********"
      ],
      "metadata": {
        "id": "aV1svkm_FJLd"
      }
    },
    {
      "cell_type": "code",
      "source": [
        "for i in range(1,6):\n",
        "    print(' '*(5-i)+'*'*(2*i-1))"
      ],
      "metadata": {
        "id": "DgJ6ii2YFyTp",
        "colab": {
          "base_uri": "https://localhost:8080/"
        },
        "outputId": "ab19fb1e-9e7c-4102-c264-fb4c4a16818b"
      },
      "execution_count": null,
      "outputs": [
        {
          "output_type": "stream",
          "name": "stdout",
          "text": [
            "    *\n",
            "   ***\n",
            "  *****\n",
            " *******\n",
            "*********\n"
          ]
        }
      ]
    },
    {
      "cell_type": "code",
      "source": [],
      "metadata": {
        "id": "rjWUhRa5G_n6"
      },
      "execution_count": null,
      "outputs": []
    },
    {
      "cell_type": "code",
      "source": [
        "for i in range(5):\n",
        "  print(' '*(4-i)+'*'*(2*i+1))"
      ],
      "metadata": {
        "colab": {
          "base_uri": "https://localhost:8080/"
        },
        "id": "YuHAXw3mMqMk",
        "outputId": "7e3ffa50-5bd0-4beb-dc71-c54be7bb2b36"
      },
      "execution_count": null,
      "outputs": [
        {
          "output_type": "stream",
          "name": "stdout",
          "text": [
            "    *\n",
            "   ***\n",
            "  *****\n",
            " *******\n",
            "*********\n"
          ]
        }
      ]
    },
    {
      "cell_type": "markdown",
      "source": [
        "### 綜合練習 02\n",
        "\n",
        "請將上面的程式碼打包成一個函式，輸入一個整數n，劃出高度為n的金字塔。"
      ],
      "metadata": {
        "id": "jjtmTiVNRUD-"
      }
    },
    {
      "cell_type": "code",
      "source": [
        "def multistar(n):\n",
        "    for i in range(n):\n",
        "        print(' '*(n-i)+'*'*(2*i+1))"
      ],
      "metadata": {
        "id": "xpN21Ra2QFwN"
      },
      "execution_count": null,
      "outputs": []
    },
    {
      "cell_type": "code",
      "source": [
        "multistar(5)"
      ],
      "metadata": {
        "colab": {
          "base_uri": "https://localhost:8080/"
        },
        "id": "2BVkWDlMQ1fI",
        "outputId": "a1446ce7-d2e5-454b-9979-df7ead7ad0cd"
      },
      "execution_count": null,
      "outputs": [
        {
          "output_type": "stream",
          "name": "stdout",
          "text": [
            "     *\n",
            "    ***\n",
            "   *****\n",
            "  *******\n",
            " *********\n"
          ]
        }
      ]
    },
    {
      "cell_type": "code",
      "source": [
        "multistar(6)"
      ],
      "metadata": {
        "colab": {
          "base_uri": "https://localhost:8080/"
        },
        "id": "-rkHQE5rRHkl",
        "outputId": "345c09be-4732-4e22-9ec7-23d73c13446e"
      },
      "execution_count": null,
      "outputs": [
        {
          "output_type": "stream",
          "name": "stdout",
          "text": [
            "      *\n",
            "     ***\n",
            "    *****\n",
            "   *******\n",
            "  *********\n",
            " ***********\n"
          ]
        }
      ]
    },
    {
      "cell_type": "markdown",
      "source": [
        "## zerojudge.tw使用簡介\n",
        "\n",
        "* 如何讀取資料? ==>input()\n",
        "* 如何印出結果? ==>print()"
      ],
      "metadata": {
        "id": "1DVMvLL5TBDl"
      }
    },
    {
      "cell_type": "code",
      "source": [
        "input?"
      ],
      "metadata": {
        "id": "gi1tQYOjTHv-"
      },
      "execution_count": null,
      "outputs": []
    },
    {
      "cell_type": "code",
      "source": [
        "x = int(input('請輸入一個整數:'))"
      ],
      "metadata": {
        "colab": {
          "base_uri": "https://localhost:8080/"
        },
        "id": "CYHayJsjTwe5",
        "outputId": "6f89a5af-6ffe-4d63-c42c-1fe6e5d20824"
      },
      "execution_count": null,
      "outputs": [
        {
          "name": "stdout",
          "output_type": "stream",
          "text": [
            "請輸入一個整數:10\n"
          ]
        }
      ]
    },
    {
      "cell_type": "code",
      "source": [
        "x"
      ],
      "metadata": {
        "colab": {
          "base_uri": "https://localhost:8080/"
        },
        "id": "RCLoE2l5UA2A",
        "outputId": "de2019bb-775b-4d56-8044-a66ab8b32cf0"
      },
      "execution_count": null,
      "outputs": [
        {
          "output_type": "execute_result",
          "data": {
            "text/plain": [
              "10"
            ]
          },
          "metadata": {},
          "execution_count": 28
        }
      ]
    },
    {
      "cell_type": "code",
      "source": [
        "print?"
      ],
      "metadata": {
        "id": "wjdfXeRxUiJx"
      },
      "execution_count": null,
      "outputs": []
    },
    {
      "cell_type": "code",
      "source": [
        "print(1,2,3,4,5)"
      ],
      "metadata": {
        "colab": {
          "base_uri": "https://localhost:8080/"
        },
        "id": "i-L53LIIUvVA",
        "outputId": "b7660df8-9285-4298-acc4-66bffa69f2ec"
      },
      "execution_count": null,
      "outputs": [
        {
          "output_type": "stream",
          "name": "stdout",
          "text": [
            "1 2 3 4 5\n"
          ]
        }
      ]
    },
    {
      "cell_type": "code",
      "source": [
        "print(1,2,3,4,5,sep='-')"
      ],
      "metadata": {
        "colab": {
          "base_uri": "https://localhost:8080/"
        },
        "id": "r-eyGIDGUz8M",
        "outputId": "8684bce3-17be-47f4-d78d-47a5c8059f1a"
      },
      "execution_count": null,
      "outputs": [
        {
          "output_type": "stream",
          "name": "stdout",
          "text": [
            "1-2-3-4-5\n"
          ]
        }
      ]
    },
    {
      "cell_type": "code",
      "source": [
        "print(1,2,3,4,5,sep='-',end='\\n') # '\\n'代表換行\n",
        "print('a','b','c','d','e',sep='-')"
      ],
      "metadata": {
        "colab": {
          "base_uri": "https://localhost:8080/"
        },
        "id": "1rgFlluoU_Li",
        "outputId": "61f80ee2-4cd5-49a2-b514-afaa9363949b"
      },
      "execution_count": null,
      "outputs": [
        {
          "output_type": "stream",
          "name": "stdout",
          "text": [
            "1-2-3-4-5\n",
            "a-b-c-d-e\n"
          ]
        }
      ]
    },
    {
      "cell_type": "code",
      "source": [
        "print(1,2,3,end=\"+++\")\n",
        "print(4,5,6)"
      ],
      "metadata": {
        "colab": {
          "base_uri": "https://localhost:8080/"
        },
        "id": "igGMKuhSVy92",
        "outputId": "f521a8c2-d327-41f7-ccfb-6e58d03c128e"
      },
      "execution_count": null,
      "outputs": [
        {
          "output_type": "stream",
          "name": "stdout",
          "text": [
            "1 2 3+++4 5 6\n"
          ]
        }
      ]
    },
    {
      "cell_type": "markdown",
      "source": [
        "### 字串的格式化\n",
        "\n",
        "* python2\n",
        "* python3\n",
        "* f-string"
      ],
      "metadata": {
        "id": "t8cbOJGyWMcJ"
      }
    },
    {
      "cell_type": "code",
      "source": [
        "# python2字串格式化方法\n",
        "m = 1\n",
        "n = 3.14159\n",
        "print('m=%d,n=%f' %(m,n))\n"
      ],
      "metadata": {
        "colab": {
          "base_uri": "https://localhost:8080/"
        },
        "id": "rP-LqvLoV9ts",
        "outputId": "8372bf89-7588-4442-be2d-e2cf1164446d"
      },
      "execution_count": null,
      "outputs": [
        {
          "output_type": "stream",
          "name": "stdout",
          "text": [
            "m=1,n=3.141590\n"
          ]
        }
      ]
    },
    {
      "cell_type": "code",
      "source": [
        "# python3字串格式化方法\n",
        "\n",
        "m = 1\n",
        "n = 3.14159\n",
        "print('m={},n={}'.format(m,n))"
      ],
      "metadata": {
        "colab": {
          "base_uri": "https://localhost:8080/"
        },
        "id": "em3aLwZxe4AK",
        "outputId": "c079ab24-da1f-4981-db3c-749fd4ea4583"
      },
      "execution_count": null,
      "outputs": [
        {
          "output_type": "stream",
          "name": "stdout",
          "text": [
            "m=1,n=3.14159\n"
          ]
        }
      ]
    },
    {
      "cell_type": "code",
      "source": [
        "# f-string字串格式化方法\n",
        "\n",
        "m = 1\n",
        "n = 3.14159\n",
        "print(f'm={m},n={n}')"
      ],
      "metadata": {
        "colab": {
          "base_uri": "https://localhost:8080/"
        },
        "id": "tAGdSirWfDjo",
        "outputId": "2aafac5a-2a78-46d4-ad83-cfe2127317e1"
      },
      "execution_count": null,
      "outputs": [
        {
          "output_type": "stream",
          "name": "stdout",
          "text": [
            "m=1,n=3.14159\n"
          ]
        }
      ]
    },
    {
      "cell_type": "markdown",
      "source": [
        "## python的基礎語法\n",
        "\n",
        "* 條件式 ==> if statements\n",
        "* 迴圈 => loops\n",
        "* 函式 => functions\n",
        "* 例外處理 => exception handling"
      ],
      "metadata": {
        "id": "OMZID9FffqmU"
      }
    },
    {
      "cell_type": "markdown",
      "source": [
        "### 條件式"
      ],
      "metadata": {
        "id": "A6E-DwMuhxAe"
      }
    },
    {
      "cell_type": "code",
      "source": [
        "m = 3\n",
        "n = 2"
      ],
      "metadata": {
        "id": "ZxmHas1Egm9F"
      },
      "execution_count": null,
      "outputs": []
    },
    {
      "cell_type": "code",
      "source": [
        "if m > n :\n",
        "  print('m is greater than n')"
      ],
      "metadata": {
        "colab": {
          "base_uri": "https://localhost:8080/"
        },
        "id": "Ap0-mDJ1guQH",
        "outputId": "7abd3ecc-bd99-45c8-d7b5-daae403f22fa"
      },
      "execution_count": null,
      "outputs": [
        {
          "output_type": "stream",
          "name": "stdout",
          "text": [
            "m is greater than n\n"
          ]
        }
      ]
    },
    {
      "cell_type": "code",
      "source": [
        "if m > n:\n",
        "  print('m is greater than n')\n",
        "else:\n",
        "  print('m is less than n')"
      ],
      "metadata": {
        "colab": {
          "base_uri": "https://localhost:8080/"
        },
        "id": "33tkOLKDg_Tk",
        "outputId": "302b3270-7455-47f3-8f71-99ec5cc2e77a"
      },
      "execution_count": null,
      "outputs": [
        {
          "output_type": "stream",
          "name": "stdout",
          "text": [
            "m is greater than n\n"
          ]
        }
      ]
    },
    {
      "cell_type": "code",
      "source": [
        "if m > n:\n",
        "  print('m is greater than n')\n",
        "elif m < n:\n",
        "  print('m is less than n')\n",
        "else:\n",
        "  print('m is equal to n')"
      ],
      "metadata": {
        "colab": {
          "base_uri": "https://localhost:8080/"
        },
        "id": "IyUy4QCohXty",
        "outputId": "9a286055-95a7-4943-b216-bfd5cce4d8b9"
      },
      "execution_count": null,
      "outputs": [
        {
          "output_type": "stream",
          "name": "stdout",
          "text": [
            "m is greater than n\n"
          ]
        }
      ]
    },
    {
      "cell_type": "markdown",
      "source": [
        "## 迴圈(loops)\n",
        "\n",
        "* for\n",
        "* while"
      ],
      "metadata": {
        "id": "QFQFix5KiZAL"
      }
    },
    {
      "cell_type": "markdown",
      "source": [
        "#### for loop"
      ],
      "metadata": {
        "id": "opowFOCpwELt"
      }
    },
    {
      "cell_type": "markdown",
      "source": [],
      "metadata": {
        "id": "Bb2wKM6ii1ZC"
      }
    },
    {
      "cell_type": "code",
      "source": [
        "for i in range(3):\n",
        "  print(i)"
      ],
      "metadata": {
        "colab": {
          "base_uri": "https://localhost:8080/"
        },
        "id": "xiZzGt27i0KR",
        "outputId": "e80b7b7c-71fc-40f2-db21-52d928ce6446"
      },
      "execution_count": null,
      "outputs": [
        {
          "output_type": "stream",
          "name": "stdout",
          "text": [
            "0\n",
            "1\n",
            "2\n"
          ]
        }
      ]
    },
    {
      "cell_type": "code",
      "source": [
        "for i in range(3):\n",
        "  print('程式區塊開始')\n",
        "  print(i)\n",
        "  print('程式區塊結束')"
      ],
      "metadata": {
        "colab": {
          "base_uri": "https://localhost:8080/"
        },
        "id": "QWFmulAvjOIK",
        "outputId": "c4c03f72-39a0-4750-97d2-d97c650fc347"
      },
      "execution_count": null,
      "outputs": [
        {
          "output_type": "stream",
          "name": "stdout",
          "text": [
            "程式區塊開始\n",
            "0\n",
            "程式區塊結束\n",
            "程式區塊開始\n",
            "1\n",
            "程式區塊結束\n",
            "程式區塊開始\n",
            "2\n",
            "程式區塊結束\n"
          ]
        }
      ]
    },
    {
      "cell_type": "code",
      "source": [
        "# for縮排錯誤範例\n",
        "for i in range(3):\n",
        "  print('程式區塊開始')\n",
        "  print(i)\n",
        "print('程式區塊結束')"
      ],
      "metadata": {
        "colab": {
          "base_uri": "https://localhost:8080/"
        },
        "id": "4N3MRUPQjm9f",
        "outputId": "705a3535-930c-4077-a940-cfd17fec7f3c"
      },
      "execution_count": null,
      "outputs": [
        {
          "output_type": "stream",
          "name": "stdout",
          "text": [
            "程式區塊開始\n",
            "0\n",
            "程式區塊開始\n",
            "1\n",
            "程式區塊開始\n",
            "2\n",
            "程式區塊結束\n"
          ]
        }
      ]
    },
    {
      "cell_type": "code",
      "source": [
        "x = ['aaa','bbb','ccc']"
      ],
      "metadata": {
        "id": "H0Do7Vmxjvi_"
      },
      "execution_count": null,
      "outputs": []
    },
    {
      "cell_type": "code",
      "source": [
        "for i in x:\n",
        "  print(i)"
      ],
      "metadata": {
        "colab": {
          "base_uri": "https://localhost:8080/"
        },
        "id": "o_-QTDVgkJnB",
        "outputId": "8ac1d24c-6205-411d-b2b8-4f37c3995624"
      },
      "execution_count": null,
      "outputs": [
        {
          "output_type": "stream",
          "name": "stdout",
          "text": [
            "aaa\n",
            "bbb\n",
            "ccc\n"
          ]
        }
      ]
    },
    {
      "cell_type": "code",
      "source": [
        "d = {}\n",
        "d['a'] = '1'\n",
        "d['b'] = '2'\n",
        "d['c'] = '3'"
      ],
      "metadata": {
        "id": "_IcUXhOvkjAD"
      },
      "execution_count": null,
      "outputs": []
    },
    {
      "cell_type": "code",
      "source": [
        "d"
      ],
      "metadata": {
        "colab": {
          "base_uri": "https://localhost:8080/"
        },
        "id": "GDHfh9Q2krjN",
        "outputId": "6e1085e0-61c9-435d-b305-3ee6e51aa92f"
      },
      "execution_count": null,
      "outputs": [
        {
          "output_type": "execute_result",
          "data": {
            "text/plain": [
              "{'a': '1', 'b': '2', 'c': '3'}"
            ]
          },
          "metadata": {},
          "execution_count": 18
        }
      ]
    },
    {
      "cell_type": "code",
      "source": [
        "for i in d:\n",
        "  print(i)"
      ],
      "metadata": {
        "colab": {
          "base_uri": "https://localhost:8080/"
        },
        "id": "BXNj9g8_lHVI",
        "outputId": "0f0f0a58-d62f-48bd-e48b-4ef56d8f2d7c"
      },
      "execution_count": null,
      "outputs": [
        {
          "output_type": "stream",
          "name": "stdout",
          "text": [
            "a\n",
            "b\n",
            "c\n"
          ]
        }
      ]
    },
    {
      "cell_type": "code",
      "source": [
        "# 寫一個for迴圈，顯示出 a => 1 , b => 2 , c => 3\n",
        "# AI 版\n",
        "for i in d:\n",
        "  print(f'{i} => {d[i]}')"
      ],
      "metadata": {
        "colab": {
          "base_uri": "https://localhost:8080/"
        },
        "id": "XRt7KcErlQPF",
        "outputId": "a0725c4b-08c7-4723-b9e9-0ec967539c68"
      },
      "execution_count": null,
      "outputs": [
        {
          "output_type": "stream",
          "name": "stdout",
          "text": [
            "a => 1\n",
            "b => 2\n",
            "c => 3\n"
          ]
        }
      ]
    },
    {
      "cell_type": "code",
      "source": [
        "# 寫一個for迴圈，顯示出 a => 1 , b => 2 , c => 3\n",
        "# 老師版\n",
        "for i in d:\n",
        "  print(i,'==>', d[i])"
      ],
      "metadata": {
        "colab": {
          "base_uri": "https://localhost:8080/"
        },
        "id": "phSbC_2Oma2x",
        "outputId": "2e2b34a2-e68c-4555-b340-bd856945207a"
      },
      "execution_count": null,
      "outputs": [
        {
          "output_type": "stream",
          "name": "stdout",
          "text": [
            "a ==> 1\n",
            "b ==> 2\n",
            "c ==> 3\n"
          ]
        }
      ]
    },
    {
      "cell_type": "code",
      "source": [
        "# 寫一個迴圈顯示RGB三原色\n",
        "\n",
        "coloransi = ['red','green','blue']\n",
        "for i in coloransi:\n",
        "  print(i)\n"
      ],
      "metadata": {
        "colab": {
          "base_uri": "https://localhost:8080/"
        },
        "id": "XSZAm0Q9nSDg",
        "outputId": "1cf8fca9-10b1-4c9e-e47f-4a7c1aba46dd"
      },
      "execution_count": null,
      "outputs": [
        {
          "output_type": "stream",
          "name": "stdout",
          "text": [
            "red\n",
            "green\n",
            "blue\n"
          ]
        }
      ]
    },
    {
      "cell_type": "code",
      "source": [
        "'a' in d"
      ],
      "metadata": {
        "colab": {
          "base_uri": "https://localhost:8080/"
        },
        "id": "G7aHJl6koeKO",
        "outputId": "688b09d5-942e-4209-ecdf-068d0cd5c11d"
      },
      "execution_count": null,
      "outputs": [
        {
          "output_type": "execute_result",
          "data": {
            "text/plain": [
              "True"
            ]
          },
          "metadata": {},
          "execution_count": 29
        }
      ]
    },
    {
      "cell_type": "code",
      "source": [
        "if 'a' in d:\n",
        "  print('a is in d')"
      ],
      "metadata": {
        "colab": {
          "base_uri": "https://localhost:8080/"
        },
        "id": "zF29WUBBokLj",
        "outputId": "8c571fbf-5ae8-47ab-f771-08c6141db2ef"
      },
      "execution_count": null,
      "outputs": [
        {
          "output_type": "stream",
          "name": "stdout",
          "text": [
            "a is in d\n"
          ]
        }
      ]
    },
    {
      "cell_type": "code",
      "source": [
        "if 'a' in d:\n",
        "  print(f'a is in d,its value is {d[\"a\"]}')"
      ],
      "metadata": {
        "colab": {
          "base_uri": "https://localhost:8080/"
        },
        "id": "QoAgLa2TozJr",
        "outputId": "b0b15f77-fcb5-4c8b-b40c-86b1f29611b0"
      },
      "execution_count": null,
      "outputs": [
        {
          "output_type": "stream",
          "name": "stdout",
          "text": [
            "a is in d,its value is 1\n"
          ]
        }
      ]
    },
    {
      "cell_type": "markdown",
      "source": [
        "#### 關於字串的引號(' v.s. \")\n"
      ],
      "metadata": {
        "id": "5WVj4Zk1p1Sv"
      }
    },
    {
      "cell_type": "code",
      "source": [
        "s1 = 'my dog'\n",
        "s2 = \"my dog\""
      ],
      "metadata": {
        "id": "rGAgq-kPqECE"
      },
      "execution_count": null,
      "outputs": []
    },
    {
      "cell_type": "code",
      "source": [
        "s3 = \"my dog's name is Bob\""
      ],
      "metadata": {
        "id": "Uwkm4TznqN-f"
      },
      "execution_count": null,
      "outputs": []
    },
    {
      "cell_type": "code",
      "source": [
        "s3"
      ],
      "metadata": {
        "colab": {
          "base_uri": "https://localhost:8080/",
          "height": 35
        },
        "id": "sO6-uSWNqXhx",
        "outputId": "e0b3b82d-1cdb-4a97-fd8e-abd356c59a88"
      },
      "execution_count": null,
      "outputs": [
        {
          "output_type": "execute_result",
          "data": {
            "text/plain": [
              "\"my dog's name is Bob\""
            ],
            "application/vnd.google.colaboratory.intrinsic+json": {
              "type": "string"
            }
          },
          "metadata": {},
          "execution_count": 40
        }
      ]
    },
    {
      "cell_type": "code",
      "source": [
        "s4 = 'my dog\\'s name is Bob'"
      ],
      "metadata": {
        "id": "JgJ5waWaqbwq"
      },
      "execution_count": null,
      "outputs": []
    },
    {
      "cell_type": "code",
      "source": [
        "s4"
      ],
      "metadata": {
        "colab": {
          "base_uri": "https://localhost:8080/",
          "height": 35
        },
        "id": "KbnEkI_Lqhm7",
        "outputId": "0106682a-5cfa-4441-fe63-075b15ea8e48"
      },
      "execution_count": null,
      "outputs": [
        {
          "output_type": "execute_result",
          "data": {
            "text/plain": [
              "\"my dog's name is Bob\""
            ],
            "application/vnd.google.colaboratory.intrinsic+json": {
              "type": "string"
            }
          },
          "metadata": {},
          "execution_count": 42
        }
      ]
    },
    {
      "cell_type": "markdown",
      "source": [
        "#### while loop"
      ],
      "metadata": {
        "id": "TevDp5n-qvqc"
      }
    },
    {
      "cell_type": "code",
      "source": [
        "for i in range(5):\n",
        "  print(i)"
      ],
      "metadata": {
        "colab": {
          "base_uri": "https://localhost:8080/"
        },
        "id": "fqKJpSenq3Fi",
        "outputId": "40203ed5-3481-4999-cbf8-5a5c8fa992b4"
      },
      "execution_count": null,
      "outputs": [
        {
          "output_type": "stream",
          "name": "stdout",
          "text": [
            "0\n",
            "1\n",
            "2\n",
            "3\n",
            "4\n"
          ]
        }
      ]
    },
    {
      "cell_type": "code",
      "source": [
        "i = 0\n",
        "while i < 5:\n",
        "  print(i)\n",
        "  i = i + 1 # i += 1"
      ],
      "metadata": {
        "colab": {
          "base_uri": "https://localhost:8080/"
        },
        "id": "hhnvI7SXrCHO",
        "outputId": "addf6d72-8a10-45ce-c7c5-365ecf0415ff"
      },
      "execution_count": null,
      "outputs": [
        {
          "output_type": "stream",
          "name": "stdout",
          "text": [
            "0\n",
            "1\n",
            "2\n",
            "3\n",
            "4\n"
          ]
        }
      ]
    },
    {
      "cell_type": "code",
      "source": [
        "# 無限迴圈\n",
        "while True:\n",
        "  print('hello world!\")"
      ],
      "metadata": {
        "id": "14o1MgeargK7"
      },
      "execution_count": null,
      "outputs": []
    },
    {
      "cell_type": "code",
      "source": [
        "c = 0\n",
        "while True :\n",
        "  print(\"Hello World!\")\n",
        "  c += 1\n",
        "  if c > 5:\n",
        "    break"
      ],
      "metadata": {
        "colab": {
          "base_uri": "https://localhost:8080/"
        },
        "id": "X96qUoB8rtJJ",
        "outputId": "714e9a5c-028f-4917-9c2b-618cb4c54821"
      },
      "execution_count": null,
      "outputs": [
        {
          "output_type": "stream",
          "name": "stdout",
          "text": [
            "Hello World!\n",
            "Hello World!\n",
            "Hello World!\n",
            "Hello World!\n",
            "Hello World!\n",
            "Hello World!\n"
          ]
        }
      ]
    },
    {
      "cell_type": "code",
      "source": [
        "# continue ，跳開此次的while迴圈，往下一值的while迴圈執行\n",
        "i = 0\n",
        "while i < 5:\n",
        "  if i == 2: #當i=2時直接再+1，且會因continue而跳開執行print(i)\n",
        "    i +=1\n",
        "    continue\n",
        "  print(i)\n",
        "  i = i + 1   # i += 1"
      ],
      "metadata": {
        "colab": {
          "base_uri": "https://localhost:8080/"
        },
        "id": "Cm2Gu1Trsbxn",
        "outputId": "fd6b774f-623e-45bd-d94e-7d76a6100b6a"
      },
      "execution_count": null,
      "outputs": [
        {
          "output_type": "stream",
          "name": "stdout",
          "text": [
            "0\n",
            "1\n",
            "3\n",
            "4\n"
          ]
        }
      ]
    },
    {
      "cell_type": "code",
      "source": [
        "\n",
        "# 同上，只是將while迴圈改成for迴圈\n",
        "for i in range(5):\n",
        "  if i == 2:\n",
        "    continue\n",
        "  print(i)"
      ],
      "metadata": {
        "colab": {
          "base_uri": "https://localhost:8080/"
        },
        "id": "DKO17rmctaMO",
        "outputId": "789a3dd1-6943-4ad4-b052-f87723396982"
      },
      "execution_count": null,
      "outputs": [
        {
          "output_type": "stream",
          "name": "stdout",
          "text": [
            "0\n",
            "1\n",
            "3\n",
            "4\n"
          ]
        }
      ]
    },
    {
      "cell_type": "markdown",
      "source": [
        "### 函式"
      ],
      "metadata": {
        "id": "-0LoIWQnt4xl"
      }
    },
    {
      "cell_type": "code",
      "source": [
        "# 僅印出x**2的值，並未返回值\n",
        "def square01(x):\n",
        "  print(x**2)\n",
        "# return直接返回x**2的值，因沒有變數承接返回值，故於螢幕直接顯示返回值\n",
        "def square02(x):\n",
        "  return x**2\n",
        "# return直接返回x**2的值，因有變數y承接返回值，故不再於螢幕顯示返回值\n",
        "def square03(x):\n",
        "  y = x**2"
      ],
      "metadata": {
        "id": "l9FiIJHlt8k5"
      },
      "execution_count": null,
      "outputs": []
    },
    {
      "cell_type": "code",
      "source": [
        "square01(2)"
      ],
      "metadata": {
        "colab": {
          "base_uri": "https://localhost:8080/"
        },
        "id": "mQwhLlK2uV_Y",
        "outputId": "cc34bccc-bded-4098-c7b4-830ceb59c649"
      },
      "execution_count": null,
      "outputs": [
        {
          "output_type": "stream",
          "name": "stdout",
          "text": [
            "4\n"
          ]
        }
      ]
    },
    {
      "cell_type": "code",
      "source": [
        "square02(2)"
      ],
      "metadata": {
        "colab": {
          "base_uri": "https://localhost:8080/"
        },
        "id": "ulIvmcHVubib",
        "outputId": "7881d474-ea25-4aa4-bdcc-1d792822604b"
      },
      "execution_count": null,
      "outputs": [
        {
          "output_type": "execute_result",
          "data": {
            "text/plain": [
              "4"
            ]
          },
          "metadata": {},
          "execution_count": 46
        }
      ]
    },
    {
      "cell_type": "code",
      "source": [
        "square03(2)"
      ],
      "metadata": {
        "id": "OeKyCZ_RPBfk"
      },
      "execution_count": null,
      "outputs": []
    },
    {
      "cell_type": "code",
      "source": [
        "x1 = square01(2)"
      ],
      "metadata": {
        "colab": {
          "base_uri": "https://localhost:8080/"
        },
        "id": "tRzm56qium4X",
        "outputId": "02615a5b-c3ea-46ad-a6e2-468f1768ef3b"
      },
      "execution_count": null,
      "outputs": [
        {
          "output_type": "stream",
          "name": "stdout",
          "text": [
            "4\n"
          ]
        }
      ]
    },
    {
      "cell_type": "code",
      "source": [
        "x2 = square02(2)"
      ],
      "metadata": {
        "id": "LkszMbPeutwl"
      },
      "execution_count": null,
      "outputs": []
    },
    {
      "cell_type": "code",
      "source": [
        "x1"
      ],
      "metadata": {
        "id": "109BCWhpuz4G"
      },
      "execution_count": null,
      "outputs": []
    },
    {
      "cell_type": "code",
      "source": [
        "x2"
      ],
      "metadata": {
        "colab": {
          "base_uri": "https://localhost:8080/"
        },
        "id": "MFjCMWzju1eF",
        "outputId": "bb774a34-4ee4-4452-de09-4e3c2cfab1c8"
      },
      "execution_count": null,
      "outputs": [
        {
          "output_type": "execute_result",
          "data": {
            "text/plain": [
              "4"
            ]
          },
          "metadata": {},
          "execution_count": 63
        }
      ]
    },
    {
      "cell_type": "code",
      "source": [
        "K = {}\n",
        "K['a'] = 1\n",
        "K['b'] = 2\n",
        "K['c'] = 3\n",
        "\n",
        "K\n",
        "\n",
        "# for i in K:\n",
        "  # print(i,\" ==> \",K[i])"
      ],
      "metadata": {
        "colab": {
          "base_uri": "https://localhost:8080/"
        },
        "id": "0ggHntKi_8UU",
        "outputId": "2495b21b-1a86-4d80-a7b4-82e33113bbdb"
      },
      "execution_count": null,
      "outputs": [
        {
          "output_type": "execute_result",
          "data": {
            "text/plain": [
              "{'a': 1, 'b': 2, 'c': 3}"
            ]
          },
          "metadata": {},
          "execution_count": 29
        }
      ]
    },
    {
      "cell_type": "code",
      "source": [
        "'a' in K"
      ],
      "metadata": {
        "colab": {
          "base_uri": "https://localhost:8080/"
        },
        "id": "qAfcPN5TIehB",
        "outputId": "ead724ac-c3b1-45dc-945a-0f885956feda"
      },
      "execution_count": null,
      "outputs": [
        {
          "output_type": "execute_result",
          "data": {
            "text/plain": [
              "True"
            ]
          },
          "metadata": {},
          "execution_count": 32
        }
      ]
    },
    {
      "cell_type": "markdown",
      "source": [
        "### 寫一個迴圈印出四季的名稱"
      ],
      "metadata": {
        "id": "H3IvSjeuCxET"
      }
    },
    {
      "cell_type": "code",
      "source": [
        "season = ['spring','summer','autumn','winter']\n",
        "print(season[0])\n",
        "print(season[1])\n",
        "print(season[2])\n",
        "print(season[3])\n",
        "print(season)\n",
        "season"
      ],
      "metadata": {
        "colab": {
          "base_uri": "https://localhost:8080/"
        },
        "id": "W3TWsIEXCwty",
        "outputId": "e4a4fd1d-6618-4316-ec0d-c64b86bb13ee"
      },
      "execution_count": null,
      "outputs": [
        {
          "output_type": "stream",
          "name": "stdout",
          "text": [
            "spring\n",
            "summer\n",
            "autumn\n",
            "winter\n",
            "['spring', 'summer', 'autumn', 'winter']\n"
          ]
        },
        {
          "output_type": "execute_result",
          "data": {
            "text/plain": [
              "['spring', 'summer', 'autumn', 'winter']"
            ]
          },
          "metadata": {},
          "execution_count": 18
        }
      ]
    },
    {
      "cell_type": "code",
      "source": [],
      "metadata": {
        "id": "AvgKbugBCTL4"
      },
      "execution_count": null,
      "outputs": []
    },
    {
      "cell_type": "markdown",
      "source": [
        "### 寫一個迴圈印出水的三樣態"
      ],
      "metadata": {
        "id": "N8Rl1yfbD4rz"
      }
    },
    {
      "cell_type": "code",
      "source": [
        "water = {'type 1':'gas',\"type 2\":'liquid',\"type 3\":'ice'}\n",
        "for i in water:\n",
        "  print(i,\"==>\",water[i])"
      ],
      "metadata": {
        "colab": {
          "base_uri": "https://localhost:8080/"
        },
        "id": "5lxT7IBpED1I",
        "outputId": "e1f5569c-84f1-4212-be54-e1dcfcce3820"
      },
      "execution_count": null,
      "outputs": [
        {
          "output_type": "stream",
          "name": "stdout",
          "text": [
            "type 1 ==> gas\n",
            "type 2 ==> liquid\n",
            "type 3 ==> ice\n"
          ]
        }
      ]
    },
    {
      "cell_type": "markdown",
      "source": [
        "### 例外處理(Exception handling)\n",
        "\n",
        "```python\n",
        "try:\n",
        "  程式區塊01\n",
        "except Exception as e:\n",
        "  程式區塊02\n",
        "```"
      ],
      "metadata": {
        "id": "wMsJirC_Rhf7"
      }
    },
    {
      "cell_type": "code",
      "source": [
        "def add(a,b):\n",
        "  print(f\"{a} + {b} = {a+b}\")\n",
        "\n",
        "def sub(a,b):\n",
        "  print(f\"{a} - {b} = {a-b}\")\n",
        "\n",
        "def mul(a,b):\n",
        "  print(f\"{a} x {b} = {a*b}\")\n",
        "\n",
        "def div(a,b):\n",
        "  print(f\"{a} / {b} = {a/b}\")"
      ],
      "metadata": {
        "id": "sDWag91fSFZU"
      },
      "execution_count": null,
      "outputs": []
    },
    {
      "cell_type": "code",
      "source": [
        "add(1,2)\n",
        "sub(1,2)\n",
        "mul(1,2)\n",
        "div(1,2)"
      ],
      "metadata": {
        "colab": {
          "base_uri": "https://localhost:8080/"
        },
        "id": "qzjk3_j4S0dR",
        "outputId": "b8267f06-7a6b-4ff1-a741-61f78f845e1b"
      },
      "execution_count": null,
      "outputs": [
        {
          "output_type": "stream",
          "name": "stdout",
          "text": [
            "1 + 2 = 3\n",
            "1 - 2 = -1\n",
            "1 x 2 = 2\n",
            "1 / 2 = 0.5\n"
          ]
        }
      ]
    },
    {
      "cell_type": "code",
      "source": [
        "# 以for迴圈的方式，依序執行上述加減乘除四個自訂義涵式\n",
        "\n",
        "fns = [add,sub,mul,div]\n",
        "for fn in fns:\n",
        "  fn(4,2)"
      ],
      "metadata": {
        "colab": {
          "base_uri": "https://localhost:8080/"
        },
        "id": "ckiaTH5KWKz1",
        "outputId": "18efae74-995c-4e93-df74-4bdd00df3a0c"
      },
      "execution_count": null,
      "outputs": [
        {
          "output_type": "stream",
          "name": "stdout",
          "text": [
            "4 + 2 = 6\n",
            "4 - 2 = 2\n",
            "4 x 2 = 8\n",
            "4 / 2 = 2.0\n"
          ]
        }
      ]
    },
    {
      "cell_type": "code",
      "source": [
        "# 以for迴圈的方式，依序執行上述加減乘除四個自訂義涵式，並有例外處理\n",
        "\n",
        "fns = [add,sub,mul,div]\n",
        "for fn in fns:\n",
        "  try:\n",
        "    fn(4,0)\n",
        "  except Exception as e:\n",
        "    print(e)  # 印出錯誤訊息\n",
        "#"
      ],
      "metadata": {
        "colab": {
          "base_uri": "https://localhost:8080/"
        },
        "id": "gcUYM1dIX5Yh",
        "outputId": "8d4e54fa-a452-4f69-fe61-bb3b96cf7c74"
      },
      "execution_count": null,
      "outputs": [
        {
          "output_type": "stream",
          "name": "stdout",
          "text": [
            "4 + 0 = 4\n",
            "4 - 0 = 4\n",
            "4 x 0 = 0\n",
            "division by zero\n"
          ]
        }
      ]
    },
    {
      "cell_type": "markdown",
      "source": [
        "### 綜合練習03\n",
        "\n",
        "使用例外處理，修正盟點api的應用可能產生的錯誤。"
      ],
      "metadata": {
        "id": "OGVGnbv9ZU9y"
      }
    },
    {
      "cell_type": "code",
      "source": [
        "import requests\n",
        "def lookup(word):\n",
        "  url = \"https://www.moedict.tw/uni/\"\n",
        "  data = requests.get(url+word).json()\n",
        "  return data['heteronyms'][0]['definitions'][0]['def']"
      ],
      "metadata": {
        "id": "6CfEoSESaLpb"
      },
      "execution_count": 70,
      "outputs": []
    },
    {
      "cell_type": "code",
      "source": [
        "lookup('教室')"
      ],
      "metadata": {
        "colab": {
          "base_uri": "https://localhost:8080/",
          "height": 35
        },
        "id": "26qmCzihaWkX",
        "outputId": "f752145d-cab0-4aa1-eb34-0fd6f35d1e36"
      },
      "execution_count": 72,
      "outputs": [
        {
          "output_type": "execute_result",
          "data": {
            "text/plain": [
              "'學校裡進行教學活動的房間。'"
            ],
            "application/vnd.google.colaboratory.intrinsic+json": {
              "type": "string"
            }
          },
          "metadata": {},
          "execution_count": 72
        }
      ]
    },
    {
      "cell_type": "code",
      "source": [
        "import requests\n",
        "def lookup(word):\n",
        "  url = \"https://www.moedict.tw/uni/\"\n",
        "  data = requests.get(url+word).json()\n",
        "  try:\n",
        "    return data['heteronyms'][0]['definitions'][0]['def']\n",
        "  except Exception as e:\n",
        "    # return e\n",
        "    return (f'抱歉查詢不到{word}，請重新輸入其他字詞')\n"
      ],
      "metadata": {
        "id": "AH8296ENbH8Q"
      },
      "execution_count": 85,
      "outputs": []
    },
    {
      "cell_type": "code",
      "source": [
        "lookup('apple')"
      ],
      "metadata": {
        "colab": {
          "base_uri": "https://localhost:8080/",
          "height": 35
        },
        "id": "GVGeZ0cMcIUl",
        "outputId": "3998a964-df54-49e7-ddd8-b34f8677d9e8"
      },
      "execution_count": 86,
      "outputs": [
        {
          "output_type": "execute_result",
          "data": {
            "text/plain": [
              "'抱歉查詢不到apple，請重新輸入其他字詞'"
            ],
            "application/vnd.google.colaboratory.intrinsic+json": {
              "type": "string"
            }
          },
          "metadata": {},
          "execution_count": 86
        }
      ]
    },
    {
      "cell_type": "markdown",
      "source": [
        "## 網路爬蟲簡介\n",
        "\n",
        "https://github.com/vcdemy/crawler\n",
        "\n",
        "https://vcdemy.github.io/web\n",
        "\n"
      ],
      "metadata": {
        "id": "x09AodQTeugr"
      }
    },
    {
      "cell_type": "markdown",
      "source": [
        "* requests ==>抓資料\n",
        "* BeautifulSoup ==>剖析資料"
      ],
      "metadata": {
        "id": "uTFFEEkUmqzZ"
      }
    },
    {
      "cell_type": "code",
      "source": [
        "#import requests\n",
        "url = \"https://vcdemy.github.io/web/html_only.html\"\n",
        "r = requests.get(url)\n",
        "print(r.text)\n",
        "# r.text\n",
        "# type(r.text)"
      ],
      "metadata": {
        "colab": {
          "base_uri": "https://localhost:8080/"
        },
        "id": "ukdOoWmTnFss",
        "outputId": "c5300800-4956-42df-ec3c-d802d83d06f5"
      },
      "execution_count": 94,
      "outputs": [
        {
          "output_type": "stream",
          "name": "stdout",
          "text": [
            "<!DOCTYPE html>\n",
            "<html>\n",
            "<head>\n",
            "    <title>HTML範例</title>\n",
            "</head>\n",
            "<body>\n",
            "\n",
            "<h1>哈囉！HTML！</h1>\n",
            "\n",
            "<img src=\"ninja.jpg\" />\n",
            "\n",
            "</body>\n",
            "</html>\n"
          ]
        }
      ]
    },
    {
      "cell_type": "code",
      "source": [
        "type(r.text)"
      ],
      "metadata": {
        "colab": {
          "base_uri": "https://localhost:8080/"
        },
        "id": "rXdtgVEl0g8Y",
        "outputId": "068fc473-76bb-41f7-cc8f-4dd6cb4c01ad"
      },
      "execution_count": 100,
      "outputs": [
        {
          "output_type": "execute_result",
          "data": {
            "text/plain": [
              "str"
            ]
          },
          "metadata": {},
          "execution_count": 100
        }
      ]
    },
    {
      "cell_type": "code",
      "source": [
        "type(r)"
      ],
      "metadata": {
        "colab": {
          "base_uri": "https://localhost:8080/",
          "height": 139
        },
        "id": "w8Y3YsoWoOKT",
        "outputId": "d67822b9-8ff2-415a-cd7c-e848a6031eb6"
      },
      "execution_count": 95,
      "outputs": [
        {
          "output_type": "execute_result",
          "data": {
            "text/plain": [
              "requests.models.Response"
            ],
            "text/html": [
              "<div style=\"max-width:800px; border: 1px solid var(--colab-border-color);\"><style>\n",
              "      pre.function-repr-contents {\n",
              "        overflow-x: auto;\n",
              "        padding: 8px 12px;\n",
              "        max-height: 500px;\n",
              "      }\n",
              "\n",
              "      pre.function-repr-contents.function-repr-contents-collapsed {\n",
              "        cursor: pointer;\n",
              "        max-height: 100px;\n",
              "      }\n",
              "    </style>\n",
              "    <pre style=\"white-space: initial; background:\n",
              "         var(--colab-secondary-surface-color); padding: 8px 12px;\n",
              "         border-bottom: 1px solid var(--colab-border-color);\"><b>requests.models.Response</b><br/>def __init__()</pre><pre class=\"function-repr-contents function-repr-contents-collapsed\" style=\"\"><a class=\"filepath\" style=\"display:none\" href=\"#\">/usr/local/lib/python3.10/dist-packages/requests/models.py</a>The :class:`Response &lt;Response&gt;` object, which contains a\n",
              "server&#x27;s response to an HTTP request.</pre>\n",
              "      <script>\n",
              "      if (google.colab.kernel.accessAllowed && google.colab.files && google.colab.files.view) {\n",
              "        for (const element of document.querySelectorAll('.filepath')) {\n",
              "          element.style.display = 'block'\n",
              "          element.onclick = (event) => {\n",
              "            event.preventDefault();\n",
              "            event.stopPropagation();\n",
              "            google.colab.files.view(element.textContent, 640);\n",
              "          };\n",
              "        }\n",
              "      }\n",
              "      for (const element of document.querySelectorAll('.function-repr-contents')) {\n",
              "        element.onclick = (event) => {\n",
              "          event.preventDefault();\n",
              "          event.stopPropagation();\n",
              "          element.classList.toggle('function-repr-contents-collapsed');\n",
              "        };\n",
              "      }\n",
              "      </script>\n",
              "      </div>"
            ]
          },
          "metadata": {},
          "execution_count": 95
        }
      ]
    },
    {
      "cell_type": "code",
      "source": [
        "r.status_code"
      ],
      "metadata": {
        "colab": {
          "base_uri": "https://localhost:8080/"
        },
        "id": "rSNAfg-qoU1x",
        "outputId": "e62072de-8843-420d-a518-f213df8d49d4"
      },
      "execution_count": 96,
      "outputs": [
        {
          "output_type": "execute_result",
          "data": {
            "text/plain": [
              "200"
            ]
          },
          "metadata": {},
          "execution_count": 96
        }
      ]
    },
    {
      "cell_type": "code",
      "source": [
        "r.encoding"
      ],
      "metadata": {
        "colab": {
          "base_uri": "https://localhost:8080/",
          "height": 35
        },
        "id": "JLfwhvqVoXgi",
        "outputId": "0be0b26a-f231-4c9d-e1e2-b58e129872ac"
      },
      "execution_count": 97,
      "outputs": [
        {
          "output_type": "execute_result",
          "data": {
            "text/plain": [
              "'utf-8'"
            ],
            "application/vnd.google.colaboratory.intrinsic+json": {
              "type": "string"
            }
          },
          "metadata": {},
          "execution_count": 97
        }
      ]
    },
    {
      "cell_type": "code",
      "source": [
        "r.headers"
      ],
      "metadata": {
        "colab": {
          "base_uri": "https://localhost:8080/"
        },
        "id": "la6CcxDPoiH5",
        "outputId": "77120c0f-e2db-4c25-d4a2-f87eed4fa332"
      },
      "execution_count": 98,
      "outputs": [
        {
          "output_type": "execute_result",
          "data": {
            "text/plain": [
              "{'Connection': 'keep-alive', 'Content-Length': '143', 'Server': 'GitHub.com', 'Content-Type': 'text/html; charset=utf-8', 'permissions-policy': 'interest-cohort=()', 'Last-Modified': 'Tue, 07 Feb 2023 13:26:17 GMT', 'Access-Control-Allow-Origin': '*', 'Strict-Transport-Security': 'max-age=31556952', 'ETag': '\"63e25179-8f\"', 'expires': 'Wed, 09 Oct 2024 05:01:01 GMT', 'Cache-Control': 'max-age=600', 'x-proxy-cache': 'MISS', 'X-GitHub-Request-Id': '10AA:1337BE:1CD549F:1F065E9:67060BAC', 'Accept-Ranges': 'bytes', 'Date': 'Wed, 09 Oct 2024 04:53:18 GMT', 'Via': '1.1 varnish', 'Age': '97', 'X-Served-By': 'cache-iad-kiad7000063-IAD', 'X-Cache': 'HIT', 'X-Cache-Hits': '1', 'X-Timer': 'S1728449599.836666,VS0,VE1', 'Vary': 'Accept-Encoding', 'X-Fastly-Request-ID': '65e92d6266c63f844c3ae4d162628c2b61eb4263'}"
            ]
          },
          "metadata": {},
          "execution_count": 98
        }
      ]
    },
    {
      "cell_type": "markdown",
      "source": [
        "### 剖析網頁原始碼"
      ],
      "metadata": {
        "id": "9HkKb-mB2AZC"
      }
    },
    {
      "cell_type": "code",
      "source": [
        "from bs4 import BeautifulSoup"
      ],
      "metadata": {
        "id": "yldXf7do0pgR"
      },
      "execution_count": 102,
      "outputs": []
    },
    {
      "cell_type": "code",
      "source": [
        "soup = BeautifulSoup(r.text)"
      ],
      "metadata": {
        "id": "z_TQmxm8046W"
      },
      "execution_count": 103,
      "outputs": []
    },
    {
      "cell_type": "code",
      "source": [
        "soup.h1"
      ],
      "metadata": {
        "colab": {
          "base_uri": "https://localhost:8080/"
        },
        "id": "lpyRNmpZ1EIH",
        "outputId": "44a74c1d-0e91-4fd0-c812-b7557e94a2c9"
      },
      "execution_count": 104,
      "outputs": [
        {
          "output_type": "execute_result",
          "data": {
            "text/plain": [
              "<h1>哈囉！HTML！</h1>"
            ]
          },
          "metadata": {},
          "execution_count": 104
        }
      ]
    },
    {
      "cell_type": "code",
      "source": [
        "soup.title"
      ],
      "metadata": {
        "colab": {
          "base_uri": "https://localhost:8080/"
        },
        "id": "_9SbZlLv1Hce",
        "outputId": "f24e65a2-ee4f-4b39-be08-cb93695508ad"
      },
      "execution_count": 105,
      "outputs": [
        {
          "output_type": "execute_result",
          "data": {
            "text/plain": [
              "<title>HTML範例</title>"
            ]
          },
          "metadata": {},
          "execution_count": 105
        }
      ]
    },
    {
      "cell_type": "code",
      "source": [
        "soup.title.text"
      ],
      "metadata": {
        "colab": {
          "base_uri": "https://localhost:8080/",
          "height": 35
        },
        "id": "EBEakKbf2aPy",
        "outputId": "e773544f-74fd-4e56-8110-0ad299916e3b"
      },
      "execution_count": 113,
      "outputs": [
        {
          "output_type": "execute_result",
          "data": {
            "text/plain": [
              "'HTML範例'"
            ],
            "application/vnd.google.colaboratory.intrinsic+json": {
              "type": "string"
            }
          },
          "metadata": {},
          "execution_count": 113
        }
      ]
    },
    {
      "cell_type": "code",
      "source": [
        "print(soup.title.text)"
      ],
      "metadata": {
        "colab": {
          "base_uri": "https://localhost:8080/"
        },
        "id": "z2_VYctI2jAw",
        "outputId": "8205e440-0c87-4f75-8eb7-f2bd8ee197a1"
      },
      "execution_count": 114,
      "outputs": [
        {
          "output_type": "stream",
          "name": "stdout",
          "text": [
            "HTML範例\n"
          ]
        }
      ]
    },
    {
      "cell_type": "code",
      "source": [
        "soup.contents"
      ],
      "metadata": {
        "colab": {
          "base_uri": "https://localhost:8080/"
        },
        "id": "b0vmstJN1KnW",
        "outputId": "372e6b3a-7101-4c5b-a395-5658f3343881"
      },
      "execution_count": 110,
      "outputs": [
        {
          "output_type": "execute_result",
          "data": {
            "text/plain": [
              "['html',\n",
              " <html>\n",
              " <head>\n",
              " <title>HTML範例</title>\n",
              " </head>\n",
              " <body>\n",
              " <h1>哈囉！HTML！</h1>\n",
              " <img src=\"ninja.jpg\"/>\n",
              " </body>\n",
              " </html>]"
            ]
          },
          "metadata": {},
          "execution_count": 110
        }
      ]
    },
    {
      "cell_type": "code",
      "source": [
        "type(soup.contents)"
      ],
      "metadata": {
        "colab": {
          "base_uri": "https://localhost:8080/"
        },
        "id": "7YX7vBfV1kaX",
        "outputId": "5d50b36e-41b4-4181-df1f-7f03bc953e74"
      },
      "execution_count": 111,
      "outputs": [
        {
          "output_type": "execute_result",
          "data": {
            "text/plain": [
              "list"
            ]
          },
          "metadata": {},
          "execution_count": 111
        }
      ]
    },
    {
      "cell_type": "code",
      "source": [
        "len(soup.contents)"
      ],
      "metadata": {
        "colab": {
          "base_uri": "https://localhost:8080/"
        },
        "id": "ru2Y_F6Y1nuC",
        "outputId": "49c50dbd-edd4-4294-a7ac-7e93ef570f3a"
      },
      "execution_count": 115,
      "outputs": [
        {
          "output_type": "execute_result",
          "data": {
            "text/plain": [
              "2"
            ]
          },
          "metadata": {},
          "execution_count": 115
        }
      ]
    },
    {
      "cell_type": "code",
      "source": [],
      "metadata": {
        "id": "DFv_J4xe21QZ"
      },
      "execution_count": null,
      "outputs": []
    },
    {
      "cell_type": "markdown",
      "source": [
        "### 抓取圖片"
      ],
      "metadata": {
        "id": "k9f8SP6Y23V_"
      }
    },
    {
      "cell_type": "code",
      "source": [
        "url = \"https://vcdemy.github.io/web/ninja.jpg\""
      ],
      "metadata": {
        "id": "xFQ0zuPK3PA_"
      },
      "execution_count": 116,
      "outputs": []
    },
    {
      "cell_type": "code",
      "source": [
        "r = requests.get(url)"
      ],
      "metadata": {
        "id": "Tfh4HLaU3eup"
      },
      "execution_count": 117,
      "outputs": []
    },
    {
      "cell_type": "code",
      "source": [
        "# 傳統開檔存檔/方式，不會自動關閉檔案，有浪費系統資源風險\n",
        "f = open('ninja.jpg','wb')\n",
        "f.write(r.content)\n",
        "f.close()"
      ],
      "metadata": {
        "id": "ztQl6gSM3yV_"
      },
      "execution_count": 118,
      "outputs": []
    },
    {
      "cell_type": "code",
      "source": [
        "# 自動開檔存檔/方式，內容寫入後會自動關閉檔案，不會浪費系統資源\n",
        "with open('ninja2.jpg','wb') as f:\n",
        "  f.write(r.content)"
      ],
      "metadata": {
        "id": "R2ex59iq58N1"
      },
      "execution_count": 120,
      "outputs": []
    },
    {
      "cell_type": "markdown",
      "source": [
        "### 抓取pdf檔\n",
        "\n",
        "* https://arxiv.org/"
      ],
      "metadata": {
        "id": "HfFpDxLM63O1"
      }
    },
    {
      "cell_type": "code",
      "source": [
        "url = \"https://arxiv.org/pdf/2410.00917\""
      ],
      "metadata": {
        "id": "O-bn9xLh6-wF"
      },
      "execution_count": 142,
      "outputs": []
    },
    {
      "cell_type": "code",
      "source": [
        "r = requests.get(url)"
      ],
      "metadata": {
        "colab": {
          "base_uri": "https://localhost:8080/",
          "height": 141
        },
        "id": "x5Tx6Cdn8PIh",
        "outputId": "8676621a-e9e7-4753-bc8e-4b034692cb67"
      },
      "execution_count": 5,
      "outputs": [
        {
          "output_type": "error",
          "ename": "NameError",
          "evalue": "name 'requests' is not defined",
          "traceback": [
            "\u001b[0;31m---------------------------------------------------------------------------\u001b[0m",
            "\u001b[0;31mNameError\u001b[0m                                 Traceback (most recent call last)",
            "\u001b[0;32m<ipython-input-5-4c0e59c26507>\u001b[0m in \u001b[0;36m<cell line: 1>\u001b[0;34m()\u001b[0m\n\u001b[0;32m----> 1\u001b[0;31m \u001b[0mr\u001b[0m \u001b[0;34m=\u001b[0m \u001b[0mrequests\u001b[0m\u001b[0;34m.\u001b[0m\u001b[0mget\u001b[0m\u001b[0;34m(\u001b[0m\u001b[0murl\u001b[0m\u001b[0;34m)\u001b[0m\u001b[0;34m\u001b[0m\u001b[0;34m\u001b[0m\u001b[0m\n\u001b[0m",
            "\u001b[0;31mNameError\u001b[0m: name 'requests' is not defined"
          ]
        }
      ]
    },
    {
      "cell_type": "code",
      "source": [
        "with open('arxiv-2410.00917.pdf','wb') as f:\n",
        "  f.write(r.content)"
      ],
      "metadata": {
        "id": "Jv4-seMb8Wd5"
      },
      "execution_count": 144,
      "outputs": []
    },
    {
      "cell_type": "markdown",
      "source": [
        "### 剖析網頁，取得所有PDF檔的網址"
      ],
      "metadata": {
        "id": "2domQUzICFTr"
      }
    },
    {
      "cell_type": "markdown",
      "source": [
        "https://arxiv.org/search/?query=LLM&searchtype=all&source=header\n",
        "\n",
        "https://www.w3schools.com/cssref/css_selectors.php"
      ],
      "metadata": {
        "id": "gX7Cf1LBGvWk"
      }
    },
    {
      "cell_type": "code",
      "source": [
        "import requests\n",
        "from bs4 import BeautifulSoup"
      ],
      "metadata": {
        "id": "nfMYKfaXdOyw"
      },
      "execution_count": 7,
      "outputs": []
    },
    {
      "cell_type": "code",
      "source": [
        "url = \"https://arxiv.org/search/?query=LLM&searchtype=all&source=header\""
      ],
      "metadata": {
        "id": "j4bUHcxoCQlF"
      },
      "execution_count": 8,
      "outputs": []
    },
    {
      "cell_type": "code",
      "source": [
        "r = requests.get(url)"
      ],
      "metadata": {
        "id": "y-tw8eLzCW3u"
      },
      "execution_count": 9,
      "outputs": []
    },
    {
      "cell_type": "code",
      "source": [
        "soup = BeautifulSoup(r.text)"
      ],
      "metadata": {
        "id": "F9Htzn-lCbTn"
      },
      "execution_count": 10,
      "outputs": []
    },
    {
      "cell_type": "code",
      "source": [
        "soup.title"
      ],
      "metadata": {
        "colab": {
          "base_uri": "https://localhost:8080/"
        },
        "id": "XnStRXViGj-O",
        "outputId": "41b87678-b3ac-4bdb-f0a3-cb735a67d434"
      },
      "execution_count": 11,
      "outputs": [
        {
          "output_type": "execute_result",
          "data": {
            "text/plain": [
              "<title>Search | arXiv e-print repository</title>"
            ]
          },
          "metadata": {},
          "execution_count": 11
        }
      ]
    },
    {
      "cell_type": "markdown",
      "source": [
        "#### BS會將網頁打包成DOM樹狀結構 (Document Object Module)\n",
        "\n",
        "* https://zh.wikipedia.org/zh-tw/%E6%96%87%E6%A1%A3%E5%AF%B9%E8%B1%A1%E6%A8%A1%E5%9E%8B\n",
        "\n",
        "![DOM.jpg](data:image/jpeg;base64,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)"
      ],
      "metadata": {
        "id": "1CNBSJIvI60f"
      }
    },
    {
      "cell_type": "code",
      "source": [
        "soup.select(\"li.arxiv-result div span a\")[0]"
      ],
      "metadata": {
        "colab": {
          "base_uri": "https://localhost:8080/"
        },
        "id": "_Knkx_o-HLxf",
        "outputId": "78b897de-fca7-4c9f-ceb2-d26b1c71fbd3"
      },
      "execution_count": 26,
      "outputs": [
        {
          "output_type": "execute_result",
          "data": {
            "text/plain": [
              "<a href=\"https://arxiv.org/pdf/2410.05269\">pdf</a>"
            ]
          },
          "metadata": {},
          "execution_count": 26
        }
      ]
    },
    {
      "cell_type": "code",
      "source": [
        "soup.select(\"li.arxiv-result div span a\")"
      ],
      "metadata": {
        "colab": {
          "base_uri": "https://localhost:8080/"
        },
        "id": "lY3ePGsUdvPk",
        "outputId": "515b9009-668a-434a-a047-6bf15fc566bc"
      },
      "execution_count": 27,
      "outputs": [
        {
          "output_type": "execute_result",
          "data": {
            "text/plain": [
              "[<a href=\"https://arxiv.org/pdf/2410.05269\">pdf</a>,\n",
              " <a href=\"https://arxiv.org/format/2410.05269\">other</a>,\n",
              " <a href=\"https://arxiv.org/pdf/2410.05267\">pdf</a>,\n",
              " <a href=\"https://arxiv.org/format/2410.05267\">other</a>,\n",
              " <a href=\"https://arxiv.org/pdf/2410.05265\">pdf</a>,\n",
              " <a href=\"https://arxiv.org/format/2410.05265\">other</a>,\n",
              " <a href=\"https://arxiv.org/pdf/2410.05262\">pdf</a>,\n",
              " <a href=\"https://arxiv.org/format/2410.05262\">other</a>,\n",
              " <a href=\"https://arxiv.org/pdf/2410.05254\">pdf</a>,\n",
              " <a href=\"https://arxiv.org/format/2410.05254\">other</a>,\n",
              " <a href=\"https://arxiv.org/pdf/2410.05252\">pdf</a>,\n",
              " <a href=\"https://arxiv.org/format/2410.05252\">other</a>,\n",
              " <a href=\"https://arxiv.org/pdf/2410.05248\">pdf</a>,\n",
              " <a href=\"https://arxiv.org/format/2410.05248\">other</a>,\n",
              " <a href=\"https://arxiv.org/pdf/2410.05229\">pdf</a>,\n",
              " <a href=\"https://arxiv.org/format/2410.05229\">other</a>,\n",
              " <a href=\"https://arxiv.org/pdf/2410.05224\">pdf</a>,\n",
              " <a href=\"https://arxiv.org/format/2410.05224\">other</a>,\n",
              " <a href=\"https://arxiv.org/pdf/2410.05222\">pdf</a>,\n",
              " <a href=\"https://arxiv.org/format/2410.05222\">other</a>,\n",
              " <a href=\"https://arxiv.org/pdf/2410.05218\">pdf</a>,\n",
              " <a href=\"https://arxiv.org/format/2410.05218\">other</a>,\n",
              " <a href=\"https://arxiv.org/pdf/2410.05217\">pdf</a>,\n",
              " <a href=\"https://arxiv.org/format/2410.05217\">other</a>,\n",
              " <a href=\"https://arxiv.org/pdf/2410.05193\">pdf</a>,\n",
              " <a href=\"https://arxiv.org/format/2410.05193\">other</a>,\n",
              " <a href=\"https://arxiv.org/pdf/2410.05191\">pdf</a>,\n",
              " <a href=\"https://arxiv.org/format/2410.05191\">other</a>,\n",
              " <a href=\"https://arxiv.org/pdf/2410.05180\">pdf</a>,\n",
              " <a href=\"https://arxiv.org/format/2410.05180\">other</a>,\n",
              " <a href=\"https://arxiv.org/pdf/2410.05168\">pdf</a>,\n",
              " <a href=\"https://arxiv.org/format/2410.05168\">other</a>,\n",
              " <a href=\"https://arxiv.org/pdf/2410.05165\">pdf</a>,\n",
              " <a href=\"https://arxiv.org/format/2410.05165\">other</a>,\n",
              " <a href=\"https://arxiv.org/pdf/2410.05130\">pdf</a>,\n",
              " <a href=\"https://arxiv.org/format/2410.05130\">other</a>,\n",
              " <a href=\"https://arxiv.org/pdf/2410.05102\">pdf</a>,\n",
              " <a href=\"https://arxiv.org/format/2410.05102\">other</a>,\n",
              " <a href=\"https://arxiv.org/pdf/2410.05099\">pdf</a>,\n",
              " <a href=\"https://arxiv.org/format/2410.05099\">other</a>,\n",
              " <a href=\"https://arxiv.org/pdf/2410.05090\">pdf</a>,\n",
              " <a href=\"https://arxiv.org/format/2410.05090\">other</a>,\n",
              " <a href=\"https://arxiv.org/pdf/2410.05085\">pdf</a>,\n",
              " <a href=\"https://arxiv.org/format/2410.05085\">other</a>,\n",
              " <a href=\"https://arxiv.org/pdf/2410.05080\">pdf</a>,\n",
              " <a href=\"https://arxiv.org/format/2410.05080\">other</a>,\n",
              " <a href=\"https://arxiv.org/pdf/2410.05077\">pdf</a>,\n",
              " <a href=\"https://arxiv.org/format/2410.05077\">other</a>,\n",
              " <a href=\"https://arxiv.org/pdf/2410.05076\">pdf</a>,\n",
              " <a href=\"https://arxiv.org/format/2410.05076\">other</a>,\n",
              " <a href=\"https://arxiv.org/pdf/2410.05062\">pdf</a>,\n",
              " <a href=\"https://arxiv.org/format/2410.05062\">other</a>,\n",
              " <a href=\"https://arxiv.org/pdf/2410.05047\">pdf</a>,\n",
              " <a href=\"https://arxiv.org/format/2410.05047\">other</a>,\n",
              " <a href=\"https://arxiv.org/pdf/2410.05045\">pdf</a>,\n",
              " <a href=\"https://arxiv.org/format/2410.05045\">other</a>,\n",
              " <a href=\"https://arxiv.org/pdf/2410.05004\">pdf</a>,\n",
              " <a href=\"https://arxiv.org/format/2410.05004\">other</a>,\n",
              " <a href=\"https://arxiv.org/pdf/2410.04949\">pdf</a>,\n",
              " <a href=\"https://arxiv.org/format/2410.04949\">other</a>,\n",
              " <a href=\"https://arxiv.org/pdf/2410.04927\">pdf</a>,\n",
              " <a href=\"https://arxiv.org/format/2410.04927\">other</a>,\n",
              " <a href=\"https://arxiv.org/pdf/2410.04925\">pdf</a>,\n",
              " <a href=\"https://arxiv.org/ps/2410.04925\">ps</a>,\n",
              " <a href=\"https://arxiv.org/format/2410.04925\">other</a>,\n",
              " <a href=\"https://arxiv.org/pdf/2410.04838\">pdf</a>,\n",
              " <a href=\"https://arxiv.org/format/2410.04838\">other</a>,\n",
              " <a href=\"https://arxiv.org/pdf/2410.04834\">pdf</a>,\n",
              " <a href=\"https://arxiv.org/format/2410.04834\">other</a>,\n",
              " <a href=\"https://arxiv.org/pdf/2410.04795\">pdf</a>,\n",
              " <a href=\"https://arxiv.org/format/2410.04795\">other</a>,\n",
              " <a href=\"https://arxiv.org/pdf/2410.04790\">pdf</a>,\n",
              " <a href=\"https://arxiv.org/format/2410.04790\">other</a>,\n",
              " <a href=\"https://arxiv.org/pdf/2410.04784\">pdf</a>,\n",
              " <a href=\"https://arxiv.org/format/2410.04784\">other</a>,\n",
              " <a href=\"https://arxiv.org/pdf/2410.04780\">pdf</a>,\n",
              " <a href=\"https://arxiv.org/format/2410.04780\">other</a>,\n",
              " <a href=\"https://arxiv.org/pdf/2410.04778\">pdf</a>,\n",
              " <a href=\"https://arxiv.org/format/2410.04778\">other</a>,\n",
              " <a href=\"https://arxiv.org/pdf/2410.04759\">pdf</a>,\n",
              " <a href=\"https://arxiv.org/format/2410.04759\">other</a>,\n",
              " <a href=\"https://arxiv.org/pdf/2410.04753\">pdf</a>,\n",
              " <a href=\"https://arxiv.org/ps/2410.04753\">ps</a>,\n",
              " <a href=\"https://arxiv.org/format/2410.04753\">other</a>,\n",
              " <a href=\"https://arxiv.org/pdf/2410.04752\">pdf</a>,\n",
              " <a href=\"https://arxiv.org/format/2410.04752\">other</a>,\n",
              " <a href=\"https://arxiv.org/pdf/2410.04751\">pdf</a>,\n",
              " <a href=\"https://arxiv.org/format/2410.04751\">other</a>,\n",
              " <a href=\"https://arxiv.org/pdf/2410.04721\">pdf</a>,\n",
              " <a href=\"https://arxiv.org/format/2410.04721\">other</a>,\n",
              " <a href=\"https://arxiv.org/pdf/2410.04717\">pdf</a>,\n",
              " <a href=\"https://arxiv.org/format/2410.04717\">other</a>,\n",
              " <a href=\"https://arxiv.org/pdf/2410.04715\">pdf</a>,\n",
              " <a href=\"https://arxiv.org/format/2410.04715\">other</a>,\n",
              " <a href=\"https://arxiv.org/pdf/2410.04699\">pdf</a>,\n",
              " <a href=\"https://arxiv.org/format/2410.04699\">other</a>,\n",
              " <a href=\"https://arxiv.org/pdf/2410.04698\">pdf</a>,\n",
              " <a href=\"https://arxiv.org/format/2410.04698\">other</a>,\n",
              " <a href=\"https://arxiv.org/pdf/2410.04683\">pdf</a>,\n",
              " <a href=\"https://arxiv.org/format/2410.04683\">other</a>,\n",
              " <a href=\"https://arxiv.org/pdf/2410.04663\">pdf</a>,\n",
              " <a href=\"https://arxiv.org/format/2410.04663\">other</a>]"
            ]
          },
          "metadata": {},
          "execution_count": 27
        }
      ]
    },
    {
      "cell_type": "code",
      "source": [
        "type(\"li.arxiv-result div span a\")"
      ],
      "metadata": {
        "colab": {
          "base_uri": "https://localhost:8080/"
        },
        "id": "QienzvKNgYrl",
        "outputId": "b487fc3d-185e-4f5f-dd78-340c40e50976"
      },
      "execution_count": 23,
      "outputs": [
        {
          "output_type": "execute_result",
          "data": {
            "text/plain": [
              "str"
            ]
          },
          "metadata": {},
          "execution_count": 23
        }
      ]
    },
    {
      "cell_type": "code",
      "source": [
        "for i in soup.select(\"li.arxiv-result div span a\"):\n",
        "    link = i.get('href')\n",
        "    if 'pdf' in link:\n",
        "        print(link)\n"
      ],
      "metadata": {
        "colab": {
          "base_uri": "https://localhost:8080/"
        },
        "collapsed": true,
        "id": "9okPKNXpeY1f",
        "outputId": "a6b8b143-403d-43fd-ecc1-9721250f7c5e"
      },
      "execution_count": 25,
      "outputs": [
        {
          "output_type": "stream",
          "name": "stdout",
          "text": [
            "https://arxiv.org/pdf/2410.05269\n",
            "https://arxiv.org/pdf/2410.05267\n",
            "https://arxiv.org/pdf/2410.05265\n",
            "https://arxiv.org/pdf/2410.05262\n",
            "https://arxiv.org/pdf/2410.05254\n",
            "https://arxiv.org/pdf/2410.05252\n",
            "https://arxiv.org/pdf/2410.05248\n",
            "https://arxiv.org/pdf/2410.05229\n",
            "https://arxiv.org/pdf/2410.05224\n",
            "https://arxiv.org/pdf/2410.05222\n",
            "https://arxiv.org/pdf/2410.05218\n",
            "https://arxiv.org/pdf/2410.05217\n",
            "https://arxiv.org/pdf/2410.05193\n",
            "https://arxiv.org/pdf/2410.05191\n",
            "https://arxiv.org/pdf/2410.05180\n",
            "https://arxiv.org/pdf/2410.05168\n",
            "https://arxiv.org/pdf/2410.05165\n",
            "https://arxiv.org/pdf/2410.05130\n",
            "https://arxiv.org/pdf/2410.05102\n",
            "https://arxiv.org/pdf/2410.05099\n",
            "https://arxiv.org/pdf/2410.05090\n",
            "https://arxiv.org/pdf/2410.05085\n",
            "https://arxiv.org/pdf/2410.05080\n",
            "https://arxiv.org/pdf/2410.05077\n",
            "https://arxiv.org/pdf/2410.05076\n",
            "https://arxiv.org/pdf/2410.05062\n",
            "https://arxiv.org/pdf/2410.05047\n",
            "https://arxiv.org/pdf/2410.05045\n",
            "https://arxiv.org/pdf/2410.05004\n",
            "https://arxiv.org/pdf/2410.04949\n",
            "https://arxiv.org/pdf/2410.04927\n",
            "https://arxiv.org/pdf/2410.04925\n",
            "https://arxiv.org/pdf/2410.04838\n",
            "https://arxiv.org/pdf/2410.04834\n",
            "https://arxiv.org/pdf/2410.04795\n",
            "https://arxiv.org/pdf/2410.04790\n",
            "https://arxiv.org/pdf/2410.04784\n",
            "https://arxiv.org/pdf/2410.04780\n",
            "https://arxiv.org/pdf/2410.04778\n",
            "https://arxiv.org/pdf/2410.04759\n",
            "https://arxiv.org/pdf/2410.04753\n",
            "https://arxiv.org/pdf/2410.04752\n",
            "https://arxiv.org/pdf/2410.04751\n",
            "https://arxiv.org/pdf/2410.04721\n",
            "https://arxiv.org/pdf/2410.04717\n",
            "https://arxiv.org/pdf/2410.04715\n",
            "https://arxiv.org/pdf/2410.04699\n",
            "https://arxiv.org/pdf/2410.04698\n",
            "https://arxiv.org/pdf/2410.04683\n",
            "https://arxiv.org/pdf/2410.04663\n"
          ]
        }
      ]
    },
    {
      "cell_type": "code",
      "source": [
        "for i in soup.select(\"li.arxiv-result div span a\"):\n",
        "    link = i.get('href')\n",
        "    if 'pdf' in link:\n",
        "        print(link)\n",
        "        r = requests.get(link)\n",
        "        with open(f\"{link.split('/')[-1]}.pdf\",'wb') as f:\n",
        "          f.write(r.content)"
      ],
      "metadata": {
        "colab": {
          "base_uri": "https://localhost:8080/"
        },
        "id": "72xZYO3ffHv0",
        "outputId": "cf0d3843-8ad5-48bf-9080-81241ef9d35d"
      },
      "execution_count": 30,
      "outputs": [
        {
          "output_type": "stream",
          "name": "stdout",
          "text": [
            "https://arxiv.org/pdf/2410.05269\n",
            "https://arxiv.org/pdf/2410.05267\n",
            "https://arxiv.org/pdf/2410.05265\n",
            "https://arxiv.org/pdf/2410.05262\n",
            "https://arxiv.org/pdf/2410.05254\n",
            "https://arxiv.org/pdf/2410.05252\n",
            "https://arxiv.org/pdf/2410.05248\n",
            "https://arxiv.org/pdf/2410.05229\n",
            "https://arxiv.org/pdf/2410.05224\n",
            "https://arxiv.org/pdf/2410.05222\n",
            "https://arxiv.org/pdf/2410.05218\n",
            "https://arxiv.org/pdf/2410.05217\n",
            "https://arxiv.org/pdf/2410.05193\n",
            "https://arxiv.org/pdf/2410.05191\n",
            "https://arxiv.org/pdf/2410.05180\n",
            "https://arxiv.org/pdf/2410.05168\n",
            "https://arxiv.org/pdf/2410.05165\n",
            "https://arxiv.org/pdf/2410.05130\n",
            "https://arxiv.org/pdf/2410.05102\n",
            "https://arxiv.org/pdf/2410.05099\n",
            "https://arxiv.org/pdf/2410.05090\n",
            "https://arxiv.org/pdf/2410.05085\n",
            "https://arxiv.org/pdf/2410.05080\n",
            "https://arxiv.org/pdf/2410.05077\n",
            "https://arxiv.org/pdf/2410.05076\n",
            "https://arxiv.org/pdf/2410.05062\n",
            "https://arxiv.org/pdf/2410.05047\n",
            "https://arxiv.org/pdf/2410.05045\n",
            "https://arxiv.org/pdf/2410.05004\n",
            "https://arxiv.org/pdf/2410.04949\n",
            "https://arxiv.org/pdf/2410.04927\n",
            "https://arxiv.org/pdf/2410.04925\n",
            "https://arxiv.org/pdf/2410.04838\n",
            "https://arxiv.org/pdf/2410.04834\n",
            "https://arxiv.org/pdf/2410.04795\n",
            "https://arxiv.org/pdf/2410.04790\n",
            "https://arxiv.org/pdf/2410.04784\n",
            "https://arxiv.org/pdf/2410.04780\n",
            "https://arxiv.org/pdf/2410.04778\n",
            "https://arxiv.org/pdf/2410.04759\n",
            "https://arxiv.org/pdf/2410.04753\n",
            "https://arxiv.org/pdf/2410.04752\n",
            "https://arxiv.org/pdf/2410.04751\n",
            "https://arxiv.org/pdf/2410.04721\n",
            "https://arxiv.org/pdf/2410.04717\n",
            "https://arxiv.org/pdf/2410.04715\n",
            "https://arxiv.org/pdf/2410.04699\n",
            "https://arxiv.org/pdf/2410.04698\n",
            "https://arxiv.org/pdf/2410.04683\n",
            "https://arxiv.org/pdf/2410.04663\n"
          ]
        }
      ]
    }
  ]
}