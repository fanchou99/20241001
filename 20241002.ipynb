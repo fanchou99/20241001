{
  "nbformat": 4,
  "nbformat_minor": 0,
  "metadata": {
    "colab": {
      "provenance": [],
      "toc_visible": true,
      "authorship_tag": "ABX9TyNo8ZbHX458+XgAZcRhhZNo",
      "include_colab_link": true
    },
    "kernelspec": {
      "name": "python3",
      "display_name": "Python 3"
    },
    "language_info": {
      "name": "python"
    }
  },
  "cells": [
    {
      "cell_type": "markdown",
      "metadata": {
        "id": "view-in-github",
        "colab_type": "text"
      },
      "source": [
        "<a href=\"https://colab.research.google.com/github/fanchou99/20241001/blob/main/20241002.ipynb\" target=\"_parent\"><img src=\"https://colab.research.google.com/assets/colab-badge.svg\" alt=\"Open In Colab\"/></a>"
      ]
    },
    {
      "cell_type": "code",
      "execution_count": null,
      "metadata": {
        "id": "fLz1FzGRBZO4"
      },
      "outputs": [],
      "source": []
    },
    {
      "cell_type": "markdown",
      "source": [
        "# 20241002筆記"
      ],
      "metadata": {
        "id": "BJVNvsV5Dgme"
      }
    },
    {
      "cell_type": "markdown",
      "source": [
        "## 複習基本資料型態及容器型別\n",
        "* int,float,bool,str\n",
        "* list,tuple,dict,set"
      ],
      "metadata": {
        "id": "gSGkySH1D5Ce"
      }
    },
    {
      "cell_type": "markdown",
      "source": [
        "### 字串的加法及乘法"
      ],
      "metadata": {
        "id": "3qutS-2xETvO"
      }
    },
    {
      "cell_type": "code",
      "source": [
        "'abc'+'123'"
      ],
      "metadata": {
        "colab": {
          "base_uri": "https://localhost:8080/",
          "height": 35
        },
        "id": "iQr-WPUBEYKJ",
        "outputId": "460b8301-85ed-4cd8-a72b-00ff3b8977cd"
      },
      "execution_count": null,
      "outputs": [
        {
          "output_type": "execute_result",
          "data": {
            "text/plain": [
              "'abc123'"
            ],
            "application/vnd.google.colaboratory.intrinsic+json": {
              "type": "string"
            }
          },
          "metadata": {},
          "execution_count": 1
        }
      ]
    },
    {
      "cell_type": "code",
      "source": [
        "'abc'*3"
      ],
      "metadata": {
        "colab": {
          "base_uri": "https://localhost:8080/",
          "height": 35
        },
        "id": "n_GouLa5EmKB",
        "outputId": "755dbba4-0af0-40fc-9978-f1414438a1ee"
      },
      "execution_count": null,
      "outputs": [
        {
          "output_type": "execute_result",
          "data": {
            "text/plain": [
              "'abcabcabc'"
            ],
            "application/vnd.google.colaboratory.intrinsic+json": {
              "type": "string"
            }
          },
          "metadata": {},
          "execution_count": 2
        }
      ]
    },
    {
      "cell_type": "code",
      "source": [
        "'abc'+123"
      ],
      "metadata": {
        "colab": {
          "base_uri": "https://localhost:8080/",
          "height": 141
        },
        "id": "zm9_kI0sEsa9",
        "outputId": "c1d40bb4-8aff-447d-b5a2-9be7f89d3e82"
      },
      "execution_count": null,
      "outputs": [
        {
          "output_type": "error",
          "ename": "TypeError",
          "evalue": "can only concatenate str (not \"int\") to str",
          "traceback": [
            "\u001b[0;31m---------------------------------------------------------------------------\u001b[0m",
            "\u001b[0;31mTypeError\u001b[0m                                 Traceback (most recent call last)",
            "\u001b[0;32m<ipython-input-3-825e7fd87f6c>\u001b[0m in \u001b[0;36m<cell line: 1>\u001b[0;34m()\u001b[0m\n\u001b[0;32m----> 1\u001b[0;31m \u001b[0;34m'abc'\u001b[0m\u001b[0;34m+\u001b[0m\u001b[0;36m123\u001b[0m\u001b[0;34m\u001b[0m\u001b[0;34m\u001b[0m\u001b[0m\n\u001b[0m",
            "\u001b[0;31mTypeError\u001b[0m: can only concatenate str (not \"int\") to str"
          ]
        }
      ]
    },
    {
      "cell_type": "code",
      "source": [
        "'abc' + str(123)"
      ],
      "metadata": {
        "colab": {
          "base_uri": "https://localhost:8080/",
          "height": 35
        },
        "id": "565UpsJ9EyVr",
        "outputId": "a88b1919-7abe-4e64-815e-e61f352c652a"
      },
      "execution_count": null,
      "outputs": [
        {
          "output_type": "execute_result",
          "data": {
            "text/plain": [
              "'abc123'"
            ],
            "application/vnd.google.colaboratory.intrinsic+json": {
              "type": "string"
            }
          },
          "metadata": {},
          "execution_count": 4
        }
      ]
    },
    {
      "cell_type": "code",
      "source": [
        "'abc'*3.0"
      ],
      "metadata": {
        "colab": {
          "base_uri": "https://localhost:8080/",
          "height": 141
        },
        "id": "OWmya_8jE1Ut",
        "outputId": "d88023e8-7735-4c67-f351-ed914f756e84"
      },
      "execution_count": null,
      "outputs": [
        {
          "output_type": "error",
          "ename": "TypeError",
          "evalue": "can't multiply sequence by non-int of type 'float'",
          "traceback": [
            "\u001b[0;31m---------------------------------------------------------------------------\u001b[0m",
            "\u001b[0;31mTypeError\u001b[0m                                 Traceback (most recent call last)",
            "\u001b[0;32m<ipython-input-5-f2fcc78f37b5>\u001b[0m in \u001b[0;36m<cell line: 1>\u001b[0;34m()\u001b[0m\n\u001b[0;32m----> 1\u001b[0;31m \u001b[0;34m'abc'\u001b[0m\u001b[0;34m*\u001b[0m\u001b[0;36m3.0\u001b[0m\u001b[0;34m\u001b[0m\u001b[0;34m\u001b[0m\u001b[0m\n\u001b[0m",
            "\u001b[0;31mTypeError\u001b[0m: can't multiply sequence by non-int of type 'float'"
          ]
        }
      ]
    },
    {
      "cell_type": "code",
      "source": [
        "'abc'*int(3.0)"
      ],
      "metadata": {
        "colab": {
          "base_uri": "https://localhost:8080/",
          "height": 35
        },
        "id": "30fbaCLqE7fQ",
        "outputId": "15609d9e-8eaa-46da-c59d-ae689175924e"
      },
      "execution_count": null,
      "outputs": [
        {
          "output_type": "execute_result",
          "data": {
            "text/plain": [
              "'abcabcabc'"
            ],
            "application/vnd.google.colaboratory.intrinsic+json": {
              "type": "string"
            }
          },
          "metadata": {},
          "execution_count": 6
        }
      ]
    },
    {
      "cell_type": "markdown",
      "source": [
        "### 綜合練習\n",
        "\n",
        "請用for迴圈畫出底下金字塔。\n",
        "\n",
        "    *\n",
        "   ***\n",
        "  *****\n",
        " *******\n",
        "*********"
      ],
      "metadata": {
        "id": "aV1svkm_FJLd"
      }
    },
    {
      "cell_type": "code",
      "source": [
        "for i in range(1,6):\n",
        "    print(' '*(5-i)+'*'*(2*i-1))"
      ],
      "metadata": {
        "id": "DgJ6ii2YFyTp",
        "colab": {
          "base_uri": "https://localhost:8080/"
        },
        "outputId": "ab19fb1e-9e7c-4102-c264-fb4c4a16818b"
      },
      "execution_count": null,
      "outputs": [
        {
          "output_type": "stream",
          "name": "stdout",
          "text": [
            "    *\n",
            "   ***\n",
            "  *****\n",
            " *******\n",
            "*********\n"
          ]
        }
      ]
    },
    {
      "cell_type": "code",
      "source": [],
      "metadata": {
        "id": "rjWUhRa5G_n6"
      },
      "execution_count": null,
      "outputs": []
    },
    {
      "cell_type": "code",
      "source": [
        "for i in range(5):\n",
        "  print(' '*(4-i)+'*'*(2*i+1))"
      ],
      "metadata": {
        "colab": {
          "base_uri": "https://localhost:8080/"
        },
        "id": "YuHAXw3mMqMk",
        "outputId": "7e3ffa50-5bd0-4beb-dc71-c54be7bb2b36"
      },
      "execution_count": null,
      "outputs": [
        {
          "output_type": "stream",
          "name": "stdout",
          "text": [
            "    *\n",
            "   ***\n",
            "  *****\n",
            " *******\n",
            "*********\n"
          ]
        }
      ]
    },
    {
      "cell_type": "markdown",
      "source": [
        "### 綜合練習 02\n",
        "\n",
        "請將上面的程式碼打包成一個函式，輸入一個整數n，劃出高度為n的金字塔。"
      ],
      "metadata": {
        "id": "jjtmTiVNRUD-"
      }
    },
    {
      "cell_type": "code",
      "source": [
        "def multistar(n):\n",
        "    for i in range(n):\n",
        "        print(' '*(n-i)+'*'*(2*i+1))"
      ],
      "metadata": {
        "id": "xpN21Ra2QFwN"
      },
      "execution_count": null,
      "outputs": []
    },
    {
      "cell_type": "code",
      "source": [
        "multistar(5)"
      ],
      "metadata": {
        "colab": {
          "base_uri": "https://localhost:8080/"
        },
        "id": "2BVkWDlMQ1fI",
        "outputId": "a1446ce7-d2e5-454b-9979-df7ead7ad0cd"
      },
      "execution_count": null,
      "outputs": [
        {
          "output_type": "stream",
          "name": "stdout",
          "text": [
            "     *\n",
            "    ***\n",
            "   *****\n",
            "  *******\n",
            " *********\n"
          ]
        }
      ]
    },
    {
      "cell_type": "code",
      "source": [
        "multistar(6)"
      ],
      "metadata": {
        "colab": {
          "base_uri": "https://localhost:8080/"
        },
        "id": "-rkHQE5rRHkl",
        "outputId": "345c09be-4732-4e22-9ec7-23d73c13446e"
      },
      "execution_count": null,
      "outputs": [
        {
          "output_type": "stream",
          "name": "stdout",
          "text": [
            "      *\n",
            "     ***\n",
            "    *****\n",
            "   *******\n",
            "  *********\n",
            " ***********\n"
          ]
        }
      ]
    },
    {
      "cell_type": "markdown",
      "source": [
        "## zerojudge.tw使用簡介\n",
        "\n",
        "* 如何讀取資料? ==>input()\n",
        "* 如何印出結果? ==>print()"
      ],
      "metadata": {
        "id": "1DVMvLL5TBDl"
      }
    },
    {
      "cell_type": "code",
      "source": [
        "input?"
      ],
      "metadata": {
        "id": "gi1tQYOjTHv-"
      },
      "execution_count": null,
      "outputs": []
    },
    {
      "cell_type": "code",
      "source": [
        "x = int(input('請輸入一個整數:'))"
      ],
      "metadata": {
        "colab": {
          "base_uri": "https://localhost:8080/"
        },
        "id": "CYHayJsjTwe5",
        "outputId": "6f89a5af-6ffe-4d63-c42c-1fe6e5d20824"
      },
      "execution_count": null,
      "outputs": [
        {
          "name": "stdout",
          "output_type": "stream",
          "text": [
            "請輸入一個整數:10\n"
          ]
        }
      ]
    },
    {
      "cell_type": "code",
      "source": [
        "x"
      ],
      "metadata": {
        "colab": {
          "base_uri": "https://localhost:8080/"
        },
        "id": "RCLoE2l5UA2A",
        "outputId": "de2019bb-775b-4d56-8044-a66ab8b32cf0"
      },
      "execution_count": null,
      "outputs": [
        {
          "output_type": "execute_result",
          "data": {
            "text/plain": [
              "10"
            ]
          },
          "metadata": {},
          "execution_count": 28
        }
      ]
    },
    {
      "cell_type": "code",
      "source": [
        "print?"
      ],
      "metadata": {
        "id": "wjdfXeRxUiJx"
      },
      "execution_count": null,
      "outputs": []
    },
    {
      "cell_type": "code",
      "source": [
        "print(1,2,3,4,5)"
      ],
      "metadata": {
        "colab": {
          "base_uri": "https://localhost:8080/"
        },
        "id": "i-L53LIIUvVA",
        "outputId": "b7660df8-9285-4298-acc4-66bffa69f2ec"
      },
      "execution_count": null,
      "outputs": [
        {
          "output_type": "stream",
          "name": "stdout",
          "text": [
            "1 2 3 4 5\n"
          ]
        }
      ]
    },
    {
      "cell_type": "code",
      "source": [
        "print(1,2,3,4,5,sep='-')"
      ],
      "metadata": {
        "colab": {
          "base_uri": "https://localhost:8080/"
        },
        "id": "r-eyGIDGUz8M",
        "outputId": "8684bce3-17be-47f4-d78d-47a5c8059f1a"
      },
      "execution_count": null,
      "outputs": [
        {
          "output_type": "stream",
          "name": "stdout",
          "text": [
            "1-2-3-4-5\n"
          ]
        }
      ]
    },
    {
      "cell_type": "code",
      "source": [
        "print(1,2,3,4,5,sep='-',end='\\n') # '\\n'代表換行\n",
        "print('a','b','c','d','e',sep='-')"
      ],
      "metadata": {
        "colab": {
          "base_uri": "https://localhost:8080/"
        },
        "id": "1rgFlluoU_Li",
        "outputId": "61f80ee2-4cd5-49a2-b514-afaa9363949b"
      },
      "execution_count": null,
      "outputs": [
        {
          "output_type": "stream",
          "name": "stdout",
          "text": [
            "1-2-3-4-5\n",
            "a-b-c-d-e\n"
          ]
        }
      ]
    },
    {
      "cell_type": "code",
      "source": [
        "print(1,2,3,end=\"+++\")\n",
        "print(4,5,6)"
      ],
      "metadata": {
        "colab": {
          "base_uri": "https://localhost:8080/"
        },
        "id": "igGMKuhSVy92",
        "outputId": "f521a8c2-d327-41f7-ccfb-6e58d03c128e"
      },
      "execution_count": null,
      "outputs": [
        {
          "output_type": "stream",
          "name": "stdout",
          "text": [
            "1 2 3+++4 5 6\n"
          ]
        }
      ]
    },
    {
      "cell_type": "markdown",
      "source": [
        "### 字串的格式化\n",
        "\n",
        "* python2\n",
        "* python3\n",
        "* f-string"
      ],
      "metadata": {
        "id": "t8cbOJGyWMcJ"
      }
    },
    {
      "cell_type": "code",
      "source": [
        "# python2字串格式化方法\n",
        "m = 1\n",
        "n = 3.14159\n",
        "print('m=%d,n=%f' %(m,n))\n"
      ],
      "metadata": {
        "colab": {
          "base_uri": "https://localhost:8080/"
        },
        "id": "rP-LqvLoV9ts",
        "outputId": "8372bf89-7588-4442-be2d-e2cf1164446d"
      },
      "execution_count": 1,
      "outputs": [
        {
          "output_type": "stream",
          "name": "stdout",
          "text": [
            "m=1,n=3.141590\n"
          ]
        }
      ]
    },
    {
      "cell_type": "code",
      "source": [
        "# python3字串格式化方法\n",
        "\n",
        "m = 1\n",
        "n = 3.14159\n",
        "print('m={},n={}'.format(m,n))"
      ],
      "metadata": {
        "colab": {
          "base_uri": "https://localhost:8080/"
        },
        "id": "em3aLwZxe4AK",
        "outputId": "c079ab24-da1f-4981-db3c-749fd4ea4583"
      },
      "execution_count": null,
      "outputs": [
        {
          "output_type": "stream",
          "name": "stdout",
          "text": [
            "m=1,n=3.14159\n"
          ]
        }
      ]
    },
    {
      "cell_type": "code",
      "source": [
        "# f-string字串格式化方法\n",
        "\n",
        "m = 1\n",
        "n = 3.14159\n",
        "print(f'm={m},n={n}')"
      ],
      "metadata": {
        "colab": {
          "base_uri": "https://localhost:8080/"
        },
        "id": "tAGdSirWfDjo",
        "outputId": "2aafac5a-2a78-46d4-ad83-cfe2127317e1"
      },
      "execution_count": null,
      "outputs": [
        {
          "output_type": "stream",
          "name": "stdout",
          "text": [
            "m=1,n=3.14159\n"
          ]
        }
      ]
    },
    {
      "cell_type": "markdown",
      "source": [
        "## python的基礎語法\n",
        "\n",
        "* 條件式 ==> if statements\n",
        "* 迴圈 => loops\n",
        "* 函式 => functions\n",
        "* 例外處理 => exception handling"
      ],
      "metadata": {
        "id": "OMZID9FffqmU"
      }
    },
    {
      "cell_type": "markdown",
      "source": [
        "### 條件式"
      ],
      "metadata": {
        "id": "A6E-DwMuhxAe"
      }
    },
    {
      "cell_type": "code",
      "source": [
        "m = 3\n",
        "n = 2"
      ],
      "metadata": {
        "id": "ZxmHas1Egm9F"
      },
      "execution_count": 3,
      "outputs": []
    },
    {
      "cell_type": "code",
      "source": [
        "if m > n :\n",
        "  print('m is greater than n')"
      ],
      "metadata": {
        "colab": {
          "base_uri": "https://localhost:8080/"
        },
        "id": "Ap0-mDJ1guQH",
        "outputId": "7abd3ecc-bd99-45c8-d7b5-daae403f22fa"
      },
      "execution_count": null,
      "outputs": [
        {
          "output_type": "stream",
          "name": "stdout",
          "text": [
            "m is greater than n\n"
          ]
        }
      ]
    },
    {
      "cell_type": "code",
      "source": [
        "if m > n:\n",
        "  print('m is greater than n')\n",
        "else:\n",
        "  print('m is less than n')"
      ],
      "metadata": {
        "colab": {
          "base_uri": "https://localhost:8080/"
        },
        "id": "33tkOLKDg_Tk",
        "outputId": "302b3270-7455-47f3-8f71-99ec5cc2e77a"
      },
      "execution_count": 5,
      "outputs": [
        {
          "output_type": "stream",
          "name": "stdout",
          "text": [
            "m is greater than n\n"
          ]
        }
      ]
    },
    {
      "cell_type": "code",
      "source": [
        "if m > n:\n",
        "  print('m is greater than n')\n",
        "elif m < n:\n",
        "  print('m is less than n')\n",
        "else:\n",
        "  print('m is equal to n')"
      ],
      "metadata": {
        "colab": {
          "base_uri": "https://localhost:8080/"
        },
        "id": "IyUy4QCohXty",
        "outputId": "9a286055-95a7-4943-b216-bfd5cce4d8b9"
      },
      "execution_count": 6,
      "outputs": [
        {
          "output_type": "stream",
          "name": "stdout",
          "text": [
            "m is greater than n\n"
          ]
        }
      ]
    },
    {
      "cell_type": "markdown",
      "source": [
        "## 迴圈(loops)\n",
        "\n",
        "* for\n",
        "* while"
      ],
      "metadata": {
        "id": "QFQFix5KiZAL"
      }
    },
    {
      "cell_type": "markdown",
      "source": [
        "#### for loop"
      ],
      "metadata": {
        "id": "opowFOCpwELt"
      }
    },
    {
      "cell_type": "markdown",
      "source": [],
      "metadata": {
        "id": "Bb2wKM6ii1ZC"
      }
    },
    {
      "cell_type": "code",
      "source": [
        "for i in range(3):\n",
        "  print(i)"
      ],
      "metadata": {
        "colab": {
          "base_uri": "https://localhost:8080/"
        },
        "id": "xiZzGt27i0KR",
        "outputId": "e80b7b7c-71fc-40f2-db21-52d928ce6446"
      },
      "execution_count": null,
      "outputs": [
        {
          "output_type": "stream",
          "name": "stdout",
          "text": [
            "0\n",
            "1\n",
            "2\n"
          ]
        }
      ]
    },
    {
      "cell_type": "code",
      "source": [
        "for i in range(3):\n",
        "  print('程式區塊開始')\n",
        "  print(i)\n",
        "  print('程式區塊結束')"
      ],
      "metadata": {
        "colab": {
          "base_uri": "https://localhost:8080/"
        },
        "id": "QWFmulAvjOIK",
        "outputId": "c4c03f72-39a0-4750-97d2-d97c650fc347"
      },
      "execution_count": null,
      "outputs": [
        {
          "output_type": "stream",
          "name": "stdout",
          "text": [
            "程式區塊開始\n",
            "0\n",
            "程式區塊結束\n",
            "程式區塊開始\n",
            "1\n",
            "程式區塊結束\n",
            "程式區塊開始\n",
            "2\n",
            "程式區塊結束\n"
          ]
        }
      ]
    },
    {
      "cell_type": "code",
      "source": [
        "# for縮排錯誤範例\n",
        "for i in range(3):\n",
        "  print('程式區塊開始')\n",
        "  print(i)\n",
        "print('程式區塊結束')"
      ],
      "metadata": {
        "colab": {
          "base_uri": "https://localhost:8080/"
        },
        "id": "4N3MRUPQjm9f",
        "outputId": "705a3535-930c-4077-a940-cfd17fec7f3c"
      },
      "execution_count": null,
      "outputs": [
        {
          "output_type": "stream",
          "name": "stdout",
          "text": [
            "程式區塊開始\n",
            "0\n",
            "程式區塊開始\n",
            "1\n",
            "程式區塊開始\n",
            "2\n",
            "程式區塊結束\n"
          ]
        }
      ]
    },
    {
      "cell_type": "code",
      "source": [
        "x = ['aaa','bbb','ccc']"
      ],
      "metadata": {
        "id": "H0Do7Vmxjvi_"
      },
      "execution_count": null,
      "outputs": []
    },
    {
      "cell_type": "code",
      "source": [
        "for i in x:\n",
        "  print(i)"
      ],
      "metadata": {
        "colab": {
          "base_uri": "https://localhost:8080/"
        },
        "id": "o_-QTDVgkJnB",
        "outputId": "8ac1d24c-6205-411d-b2b8-4f37c3995624"
      },
      "execution_count": null,
      "outputs": [
        {
          "output_type": "stream",
          "name": "stdout",
          "text": [
            "aaa\n",
            "bbb\n",
            "ccc\n"
          ]
        }
      ]
    },
    {
      "cell_type": "code",
      "source": [
        "d = {}\n",
        "d['a'] = '1'\n",
        "d['b'] = '2'\n",
        "d['c'] = '3'"
      ],
      "metadata": {
        "id": "_IcUXhOvkjAD"
      },
      "execution_count": 37,
      "outputs": []
    },
    {
      "cell_type": "code",
      "source": [
        "d"
      ],
      "metadata": {
        "colab": {
          "base_uri": "https://localhost:8080/"
        },
        "id": "GDHfh9Q2krjN",
        "outputId": "6e1085e0-61c9-435d-b305-3ee6e51aa92f"
      },
      "execution_count": null,
      "outputs": [
        {
          "output_type": "execute_result",
          "data": {
            "text/plain": [
              "{'a': '1', 'b': '2', 'c': '3'}"
            ]
          },
          "metadata": {},
          "execution_count": 18
        }
      ]
    },
    {
      "cell_type": "code",
      "source": [
        "for i in d:\n",
        "  print(i)"
      ],
      "metadata": {
        "colab": {
          "base_uri": "https://localhost:8080/"
        },
        "id": "BXNj9g8_lHVI",
        "outputId": "0f0f0a58-d62f-48bd-e48b-4ef56d8f2d7c"
      },
      "execution_count": null,
      "outputs": [
        {
          "output_type": "stream",
          "name": "stdout",
          "text": [
            "a\n",
            "b\n",
            "c\n"
          ]
        }
      ]
    },
    {
      "cell_type": "code",
      "source": [
        "# 寫一個for迴圈，顯示出 a => 1 , b => 2 , c => 3\n",
        "# AI 版\n",
        "for i in d:\n",
        "  print(f'{i} => {d[i]}')"
      ],
      "metadata": {
        "colab": {
          "base_uri": "https://localhost:8080/"
        },
        "id": "XRt7KcErlQPF",
        "outputId": "a0725c4b-08c7-4723-b9e9-0ec967539c68"
      },
      "execution_count": null,
      "outputs": [
        {
          "output_type": "stream",
          "name": "stdout",
          "text": [
            "a => 1\n",
            "b => 2\n",
            "c => 3\n"
          ]
        }
      ]
    },
    {
      "cell_type": "code",
      "source": [
        "# 寫一個for迴圈，顯示出 a => 1 , b => 2 , c => 3\n",
        "# 老師版\n",
        "for i in d:\n",
        "  print(i,'==>', d[i])"
      ],
      "metadata": {
        "colab": {
          "base_uri": "https://localhost:8080/"
        },
        "id": "phSbC_2Oma2x",
        "outputId": "2e2b34a2-e68c-4555-b340-bd856945207a"
      },
      "execution_count": null,
      "outputs": [
        {
          "output_type": "stream",
          "name": "stdout",
          "text": [
            "a ==> 1\n",
            "b ==> 2\n",
            "c ==> 3\n"
          ]
        }
      ]
    },
    {
      "cell_type": "code",
      "source": [
        "# 寫一個迴圈顯示RGB三原色\n",
        "\n",
        "coloransi = ['red','green','blue']\n",
        "for i in coloransi:\n",
        "  print(i)\n"
      ],
      "metadata": {
        "colab": {
          "base_uri": "https://localhost:8080/"
        },
        "id": "XSZAm0Q9nSDg",
        "outputId": "1cf8fca9-10b1-4c9e-e47f-4a7c1aba46dd"
      },
      "execution_count": null,
      "outputs": [
        {
          "output_type": "stream",
          "name": "stdout",
          "text": [
            "red\n",
            "green\n",
            "blue\n"
          ]
        }
      ]
    },
    {
      "cell_type": "code",
      "source": [
        "'a' in d"
      ],
      "metadata": {
        "colab": {
          "base_uri": "https://localhost:8080/"
        },
        "id": "G7aHJl6koeKO",
        "outputId": "688b09d5-942e-4209-ecdf-068d0cd5c11d"
      },
      "execution_count": null,
      "outputs": [
        {
          "output_type": "execute_result",
          "data": {
            "text/plain": [
              "True"
            ]
          },
          "metadata": {},
          "execution_count": 29
        }
      ]
    },
    {
      "cell_type": "code",
      "source": [
        "if 'a' in d:\n",
        "  print('a is in d')"
      ],
      "metadata": {
        "colab": {
          "base_uri": "https://localhost:8080/"
        },
        "id": "zF29WUBBokLj",
        "outputId": "8c571fbf-5ae8-47ab-f771-08c6141db2ef"
      },
      "execution_count": null,
      "outputs": [
        {
          "output_type": "stream",
          "name": "stdout",
          "text": [
            "a is in d\n"
          ]
        }
      ]
    },
    {
      "cell_type": "code",
      "source": [
        "if 'a' in d:\n",
        "  print(f'a is in d,its value is {d[\"a\"]}')"
      ],
      "metadata": {
        "colab": {
          "base_uri": "https://localhost:8080/"
        },
        "id": "QoAgLa2TozJr",
        "outputId": "b0b15f77-fcb5-4c8b-b40c-86b1f29611b0"
      },
      "execution_count": 38,
      "outputs": [
        {
          "output_type": "stream",
          "name": "stdout",
          "text": [
            "a is in d,its value is 1\n"
          ]
        }
      ]
    },
    {
      "cell_type": "markdown",
      "source": [
        "#### 關於字串的引號(' v.s. \")\n"
      ],
      "metadata": {
        "id": "5WVj4Zk1p1Sv"
      }
    },
    {
      "cell_type": "code",
      "source": [
        "s1 = 'my dog'\n",
        "s2 = \"my dog\""
      ],
      "metadata": {
        "id": "rGAgq-kPqECE"
      },
      "execution_count": null,
      "outputs": []
    },
    {
      "cell_type": "code",
      "source": [
        "s3 = \"my dog's name is Bob\""
      ],
      "metadata": {
        "id": "Uwkm4TznqN-f"
      },
      "execution_count": null,
      "outputs": []
    },
    {
      "cell_type": "code",
      "source": [
        "s3"
      ],
      "metadata": {
        "colab": {
          "base_uri": "https://localhost:8080/",
          "height": 35
        },
        "id": "sO6-uSWNqXhx",
        "outputId": "e0b3b82d-1cdb-4a97-fd8e-abd356c59a88"
      },
      "execution_count": null,
      "outputs": [
        {
          "output_type": "execute_result",
          "data": {
            "text/plain": [
              "\"my dog's name is Bob\""
            ],
            "application/vnd.google.colaboratory.intrinsic+json": {
              "type": "string"
            }
          },
          "metadata": {},
          "execution_count": 40
        }
      ]
    },
    {
      "cell_type": "code",
      "source": [
        "s4 = 'my dog\\'s name is Bob'"
      ],
      "metadata": {
        "id": "JgJ5waWaqbwq"
      },
      "execution_count": null,
      "outputs": []
    },
    {
      "cell_type": "code",
      "source": [
        "s4"
      ],
      "metadata": {
        "colab": {
          "base_uri": "https://localhost:8080/",
          "height": 35
        },
        "id": "KbnEkI_Lqhm7",
        "outputId": "0106682a-5cfa-4441-fe63-075b15ea8e48"
      },
      "execution_count": null,
      "outputs": [
        {
          "output_type": "execute_result",
          "data": {
            "text/plain": [
              "\"my dog's name is Bob\""
            ],
            "application/vnd.google.colaboratory.intrinsic+json": {
              "type": "string"
            }
          },
          "metadata": {},
          "execution_count": 42
        }
      ]
    },
    {
      "cell_type": "markdown",
      "source": [
        "#### while loop"
      ],
      "metadata": {
        "id": "TevDp5n-qvqc"
      }
    },
    {
      "cell_type": "code",
      "source": [
        "for i in range(5):\n",
        "  print(i)"
      ],
      "metadata": {
        "colab": {
          "base_uri": "https://localhost:8080/"
        },
        "id": "fqKJpSenq3Fi",
        "outputId": "40203ed5-3481-4999-cbf8-5a5c8fa992b4"
      },
      "execution_count": null,
      "outputs": [
        {
          "output_type": "stream",
          "name": "stdout",
          "text": [
            "0\n",
            "1\n",
            "2\n",
            "3\n",
            "4\n"
          ]
        }
      ]
    },
    {
      "cell_type": "code",
      "source": [
        "i = 0\n",
        "while i < 5:\n",
        "  print(i)\n",
        "  i = i + 1 # i += 1"
      ],
      "metadata": {
        "colab": {
          "base_uri": "https://localhost:8080/"
        },
        "id": "hhnvI7SXrCHO",
        "outputId": "addf6d72-8a10-45ce-c7c5-365ecf0415ff"
      },
      "execution_count": null,
      "outputs": [
        {
          "output_type": "stream",
          "name": "stdout",
          "text": [
            "0\n",
            "1\n",
            "2\n",
            "3\n",
            "4\n"
          ]
        }
      ]
    },
    {
      "cell_type": "code",
      "source": [
        "# 無限迴圈\n",
        "while True:\n",
        "  print('hello world!\")"
      ],
      "metadata": {
        "id": "14o1MgeargK7"
      },
      "execution_count": null,
      "outputs": []
    },
    {
      "cell_type": "code",
      "source": [
        "c = 0\n",
        "while True :\n",
        "  print(\"Hello World!\")\n",
        "  c += 1\n",
        "  if c > 5:\n",
        "    break"
      ],
      "metadata": {
        "colab": {
          "base_uri": "https://localhost:8080/"
        },
        "id": "X96qUoB8rtJJ",
        "outputId": "714e9a5c-028f-4917-9c2b-618cb4c54821"
      },
      "execution_count": null,
      "outputs": [
        {
          "output_type": "stream",
          "name": "stdout",
          "text": [
            "Hello World!\n",
            "Hello World!\n",
            "Hello World!\n",
            "Hello World!\n",
            "Hello World!\n",
            "Hello World!\n"
          ]
        }
      ]
    },
    {
      "cell_type": "code",
      "source": [
        "# continue ，跳開此次的while迴圈，往下一值的while迴圈執行\n",
        "i = 0\n",
        "while i < 5:\n",
        "  if i == 2: #當i=2時直接再+1，且會因continue而跳開執行print(i)\n",
        "    i +=1\n",
        "    continue\n",
        "  print(i)\n",
        "  i = i + 1   # i += 1"
      ],
      "metadata": {
        "colab": {
          "base_uri": "https://localhost:8080/"
        },
        "id": "Cm2Gu1Trsbxn",
        "outputId": "fd6b774f-623e-45bd-d94e-7d76a6100b6a"
      },
      "execution_count": null,
      "outputs": [
        {
          "output_type": "stream",
          "name": "stdout",
          "text": [
            "0\n",
            "1\n",
            "3\n",
            "4\n"
          ]
        }
      ]
    },
    {
      "cell_type": "code",
      "source": [
        "\n",
        "# 同上，只是將while迴圈改成for迴圈\n",
        "for i in range(5):\n",
        "  if i == 2:\n",
        "    continue\n",
        "  print(i)"
      ],
      "metadata": {
        "colab": {
          "base_uri": "https://localhost:8080/"
        },
        "id": "DKO17rmctaMO",
        "outputId": "789a3dd1-6943-4ad4-b052-f87723396982"
      },
      "execution_count": null,
      "outputs": [
        {
          "output_type": "stream",
          "name": "stdout",
          "text": [
            "0\n",
            "1\n",
            "3\n",
            "4\n"
          ]
        }
      ]
    },
    {
      "cell_type": "markdown",
      "source": [
        "### 函式"
      ],
      "metadata": {
        "id": "-0LoIWQnt4xl"
      }
    },
    {
      "cell_type": "code",
      "source": [
        "# 僅印出x**2的值，並未返回值\n",
        "def square01(x):\n",
        "  print(x**2)\n",
        "# return直接返回x**2的值，因沒有變數承接返回值，故於螢幕直接顯示返回值\n",
        "def square02(x):\n",
        "  return x**2\n",
        "# return直接返回x**2的值，因有變數y承接返回值，故不再於螢幕顯示返回值\n",
        "def square03(x):\n",
        "  y = x**2"
      ],
      "metadata": {
        "id": "l9FiIJHlt8k5"
      },
      "execution_count": 44,
      "outputs": []
    },
    {
      "cell_type": "code",
      "source": [
        "square01(2)"
      ],
      "metadata": {
        "colab": {
          "base_uri": "https://localhost:8080/"
        },
        "id": "mQwhLlK2uV_Y",
        "outputId": "cc34bccc-bded-4098-c7b4-830ceb59c649"
      },
      "execution_count": 45,
      "outputs": [
        {
          "output_type": "stream",
          "name": "stdout",
          "text": [
            "4\n"
          ]
        }
      ]
    },
    {
      "cell_type": "code",
      "source": [
        "square02(2)"
      ],
      "metadata": {
        "colab": {
          "base_uri": "https://localhost:8080/"
        },
        "id": "ulIvmcHVubib",
        "outputId": "7881d474-ea25-4aa4-bdcc-1d792822604b"
      },
      "execution_count": 46,
      "outputs": [
        {
          "output_type": "execute_result",
          "data": {
            "text/plain": [
              "4"
            ]
          },
          "metadata": {},
          "execution_count": 46
        }
      ]
    },
    {
      "cell_type": "code",
      "source": [
        "square03(2)"
      ],
      "metadata": {
        "id": "OeKyCZ_RPBfk"
      },
      "execution_count": 47,
      "outputs": []
    },
    {
      "cell_type": "code",
      "source": [
        "x1 = square01(2)"
      ],
      "metadata": {
        "colab": {
          "base_uri": "https://localhost:8080/"
        },
        "id": "tRzm56qium4X",
        "outputId": "02615a5b-c3ea-46ad-a6e2-468f1768ef3b"
      },
      "execution_count": null,
      "outputs": [
        {
          "output_type": "stream",
          "name": "stdout",
          "text": [
            "4\n"
          ]
        }
      ]
    },
    {
      "cell_type": "code",
      "source": [
        "x2 = square02(2)"
      ],
      "metadata": {
        "id": "LkszMbPeutwl"
      },
      "execution_count": null,
      "outputs": []
    },
    {
      "cell_type": "code",
      "source": [
        "x1"
      ],
      "metadata": {
        "id": "109BCWhpuz4G"
      },
      "execution_count": null,
      "outputs": []
    },
    {
      "cell_type": "code",
      "source": [
        "x2"
      ],
      "metadata": {
        "colab": {
          "base_uri": "https://localhost:8080/"
        },
        "id": "MFjCMWzju1eF",
        "outputId": "bb774a34-4ee4-4452-de09-4e3c2cfab1c8"
      },
      "execution_count": null,
      "outputs": [
        {
          "output_type": "execute_result",
          "data": {
            "text/plain": [
              "4"
            ]
          },
          "metadata": {},
          "execution_count": 63
        }
      ]
    },
    {
      "cell_type": "code",
      "source": [
        "K = {}\n",
        "K['a'] = 1\n",
        "K['b'] = 2\n",
        "K['c'] = 3\n",
        "\n",
        "K\n",
        "\n",
        "# for i in K:\n",
        "  # print(i,\" ==> \",K[i])"
      ],
      "metadata": {
        "colab": {
          "base_uri": "https://localhost:8080/"
        },
        "id": "0ggHntKi_8UU",
        "outputId": "2495b21b-1a86-4d80-a7b4-82e33113bbdb"
      },
      "execution_count": 29,
      "outputs": [
        {
          "output_type": "execute_result",
          "data": {
            "text/plain": [
              "{'a': 1, 'b': 2, 'c': 3}"
            ]
          },
          "metadata": {},
          "execution_count": 29
        }
      ]
    },
    {
      "cell_type": "code",
      "source": [
        "'a' in K"
      ],
      "metadata": {
        "colab": {
          "base_uri": "https://localhost:8080/"
        },
        "id": "qAfcPN5TIehB",
        "outputId": "ead724ac-c3b1-45dc-945a-0f885956feda"
      },
      "execution_count": 32,
      "outputs": [
        {
          "output_type": "execute_result",
          "data": {
            "text/plain": [
              "True"
            ]
          },
          "metadata": {},
          "execution_count": 32
        }
      ]
    },
    {
      "cell_type": "markdown",
      "source": [
        "### 寫一個迴圈印出四季的名稱"
      ],
      "metadata": {
        "id": "H3IvSjeuCxET"
      }
    },
    {
      "cell_type": "code",
      "source": [
        "season = ['spring','summer','autumn','winter']\n",
        "print(season[0])\n",
        "print(season[1])\n",
        "print(season[2])\n",
        "print(season[3])\n",
        "print(season)\n",
        "season"
      ],
      "metadata": {
        "colab": {
          "base_uri": "https://localhost:8080/"
        },
        "id": "W3TWsIEXCwty",
        "outputId": "e4a4fd1d-6618-4316-ec0d-c64b86bb13ee"
      },
      "execution_count": 18,
      "outputs": [
        {
          "output_type": "stream",
          "name": "stdout",
          "text": [
            "spring\n",
            "summer\n",
            "autumn\n",
            "winter\n",
            "['spring', 'summer', 'autumn', 'winter']\n"
          ]
        },
        {
          "output_type": "execute_result",
          "data": {
            "text/plain": [
              "['spring', 'summer', 'autumn', 'winter']"
            ]
          },
          "metadata": {},
          "execution_count": 18
        }
      ]
    },
    {
      "cell_type": "code",
      "source": [],
      "metadata": {
        "id": "AvgKbugBCTL4"
      },
      "execution_count": null,
      "outputs": []
    },
    {
      "cell_type": "markdown",
      "source": [
        "### 寫一個迴圈印出水的三樣態"
      ],
      "metadata": {
        "id": "N8Rl1yfbD4rz"
      }
    },
    {
      "cell_type": "code",
      "source": [
        "water = {'type 1':'gas',\"type 2\":'liquid',\"type 3\":'ice'}\n",
        "for i in water:\n",
        "  print(i,\"==>\",water[i])"
      ],
      "metadata": {
        "colab": {
          "base_uri": "https://localhost:8080/"
        },
        "id": "5lxT7IBpED1I",
        "outputId": "e1f5569c-84f1-4212-be54-e1dcfcce3820"
      },
      "execution_count": 27,
      "outputs": [
        {
          "output_type": "stream",
          "name": "stdout",
          "text": [
            "type 1 ==> gas\n",
            "type 2 ==> liquid\n",
            "type 3 ==> ice\n"
          ]
        }
      ]
    },
    {
      "cell_type": "markdown",
      "source": [
        "### 例外處理(Exception handling)\n",
        "\n",
        "```python\n",
        "try:\n",
        "  程式區塊01\n",
        "except Exception as e:\n",
        "  程式區塊02\n",
        "```"
      ],
      "metadata": {
        "id": "wMsJirC_Rhf7"
      }
    },
    {
      "cell_type": "code",
      "source": [
        "def add(a,b):\n",
        "  print(f\"{a} + {b} = {a+b}\")"
      ],
      "metadata": {
        "id": "sDWag91fSFZU"
      },
      "execution_count": 57,
      "outputs": []
    },
    {
      "cell_type": "code",
      "source": [
        "add(1,2)"
      ],
      "metadata": {
        "colab": {
          "base_uri": "https://localhost:8080/"
        },
        "id": "qzjk3_j4S0dR",
        "outputId": "4cbef170-a7a8-4c20-ad21-31be52c6d9e9"
      },
      "execution_count": 58,
      "outputs": [
        {
          "output_type": "stream",
          "name": "stdout",
          "text": [
            "1 + 2 = 3\n"
          ]
        }
      ]
    }
  ]
}